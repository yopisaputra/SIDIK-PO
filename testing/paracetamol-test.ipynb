{
 "cells": [
  {
   "cell_type": "code",
   "execution_count": 1,
   "metadata": {},
   "outputs": [],
   "source": [
    "import os\n",
    "os.environ[\"CUDA_VISIBLE_DEVICES\"]=\"-1\"\n",
    "\n",
    "import warnings\n",
    "warnings.filterwarnings('ignore')\n",
    "\n",
    "import matplotlib.pyplot as plt\n",
    "import plotly.express as px\n",
    "plt.style.use('fivethirtyeight')\n",
    "\n",
    "from sklearn.preprocessing import MinMaxScaler \n",
    "\n",
    "import tensorflow as tf\n",
    "\n",
    "import numpy as np\n",
    "import pandas as pd\n",
    "import math\n",
    "\n",
    "from sklearn.metrics import mean_squared_error as mse\n",
    "from keras.losses import MeanAbsolutePercentageError\n",
    "\n",
    "from keras.initializers import RandomUniform\n",
    "\n",
    "# Hide GPU from visible devices\n",
    "tf.config.set_visible_devices([], 'GPU')"
   ]
  },
  {
   "cell_type": "code",
   "execution_count": 2,
   "metadata": {},
   "outputs": [],
   "source": [
    "df = pd.read_csv('../data/data_para.csv')"
   ]
  },
  {
   "cell_type": "code",
   "execution_count": 3,
   "metadata": {},
   "outputs": [
    {
     "data": {
      "text/html": [
       "<div>\n",
       "<style scoped>\n",
       "    .dataframe tbody tr th:only-of-type {\n",
       "        vertical-align: middle;\n",
       "    }\n",
       "\n",
       "    .dataframe tbody tr th {\n",
       "        vertical-align: top;\n",
       "    }\n",
       "\n",
       "    .dataframe thead th {\n",
       "        text-align: right;\n",
       "    }\n",
       "</style>\n",
       "<table border=\"1\" class=\"dataframe\">\n",
       "  <thead>\n",
       "    <tr style=\"text-align: right;\">\n",
       "      <th></th>\n",
       "      <th>Month</th>\n",
       "      <th>Use_Paracetamol</th>\n",
       "    </tr>\n",
       "  </thead>\n",
       "  <tbody>\n",
       "    <tr>\n",
       "      <th>0</th>\n",
       "      <td>2015-01-01</td>\n",
       "      <td>12748</td>\n",
       "    </tr>\n",
       "    <tr>\n",
       "      <th>1</th>\n",
       "      <td>2015-02-01</td>\n",
       "      <td>13958</td>\n",
       "    </tr>\n",
       "    <tr>\n",
       "      <th>2</th>\n",
       "      <td>2015-03-01</td>\n",
       "      <td>12857</td>\n",
       "    </tr>\n",
       "    <tr>\n",
       "      <th>3</th>\n",
       "      <td>2015-04-01</td>\n",
       "      <td>13486</td>\n",
       "    </tr>\n",
       "    <tr>\n",
       "      <th>4</th>\n",
       "      <td>2015-05-01</td>\n",
       "      <td>13064</td>\n",
       "    </tr>\n",
       "  </tbody>\n",
       "</table>\n",
       "</div>"
      ],
      "text/plain": [
       "        Month  Use_Paracetamol\n",
       "0  2015-01-01            12748\n",
       "1  2015-02-01            13958\n",
       "2  2015-03-01            12857\n",
       "3  2015-04-01            13486\n",
       "4  2015-05-01            13064"
      ]
     },
     "execution_count": 3,
     "metadata": {},
     "output_type": "execute_result"
    }
   ],
   "source": [
    "df.head()"
   ]
  },
  {
   "cell_type": "code",
   "execution_count": 4,
   "metadata": {},
   "outputs": [
    {
     "data": {
      "text/html": [
       "<div>\n",
       "<style scoped>\n",
       "    .dataframe tbody tr th:only-of-type {\n",
       "        vertical-align: middle;\n",
       "    }\n",
       "\n",
       "    .dataframe tbody tr th {\n",
       "        vertical-align: top;\n",
       "    }\n",
       "\n",
       "    .dataframe thead th {\n",
       "        text-align: right;\n",
       "    }\n",
       "</style>\n",
       "<table border=\"1\" class=\"dataframe\">\n",
       "  <thead>\n",
       "    <tr style=\"text-align: right;\">\n",
       "      <th></th>\n",
       "      <th>Month</th>\n",
       "      <th>Use_Paracetamol</th>\n",
       "    </tr>\n",
       "  </thead>\n",
       "  <tbody>\n",
       "    <tr>\n",
       "      <th>0</th>\n",
       "      <td>2015-01-01</td>\n",
       "      <td>12748</td>\n",
       "    </tr>\n",
       "    <tr>\n",
       "      <th>1</th>\n",
       "      <td>2015-02-01</td>\n",
       "      <td>13958</td>\n",
       "    </tr>\n",
       "    <tr>\n",
       "      <th>2</th>\n",
       "      <td>2015-03-01</td>\n",
       "      <td>12857</td>\n",
       "    </tr>\n",
       "    <tr>\n",
       "      <th>3</th>\n",
       "      <td>2015-04-01</td>\n",
       "      <td>13486</td>\n",
       "    </tr>\n",
       "    <tr>\n",
       "      <th>4</th>\n",
       "      <td>2015-05-01</td>\n",
       "      <td>13064</td>\n",
       "    </tr>\n",
       "  </tbody>\n",
       "</table>\n",
       "</div>"
      ],
      "text/plain": [
       "        Month  Use_Paracetamol\n",
       "0  2015-01-01            12748\n",
       "1  2015-02-01            13958\n",
       "2  2015-03-01            12857\n",
       "3  2015-04-01            13486\n",
       "4  2015-05-01            13064"
      ]
     },
     "execution_count": 4,
     "metadata": {},
     "output_type": "execute_result"
    }
   ],
   "source": [
    "df['Month'] = pd.to_datetime(df['Month']).dt.date\n",
    "df.head()"
   ]
  },
  {
   "cell_type": "code",
   "execution_count": 5,
   "metadata": {},
   "outputs": [
    {
     "data": {
      "text/html": [
       "<div>\n",
       "<style scoped>\n",
       "    .dataframe tbody tr th:only-of-type {\n",
       "        vertical-align: middle;\n",
       "    }\n",
       "\n",
       "    .dataframe tbody tr th {\n",
       "        vertical-align: top;\n",
       "    }\n",
       "\n",
       "    .dataframe thead th {\n",
       "        text-align: right;\n",
       "    }\n",
       "</style>\n",
       "<table border=\"1\" class=\"dataframe\">\n",
       "  <thead>\n",
       "    <tr style=\"text-align: right;\">\n",
       "      <th></th>\n",
       "      <th>Month</th>\n",
       "      <th>Use_Paracetamol</th>\n",
       "    </tr>\n",
       "  </thead>\n",
       "  <tbody>\n",
       "    <tr>\n",
       "      <th>0</th>\n",
       "      <td>2015-01</td>\n",
       "      <td>12748</td>\n",
       "    </tr>\n",
       "    <tr>\n",
       "      <th>1</th>\n",
       "      <td>2015-02</td>\n",
       "      <td>13958</td>\n",
       "    </tr>\n",
       "    <tr>\n",
       "      <th>2</th>\n",
       "      <td>2015-03</td>\n",
       "      <td>12857</td>\n",
       "    </tr>\n",
       "    <tr>\n",
       "      <th>3</th>\n",
       "      <td>2015-04</td>\n",
       "      <td>13486</td>\n",
       "    </tr>\n",
       "    <tr>\n",
       "      <th>4</th>\n",
       "      <td>2015-05</td>\n",
       "      <td>13064</td>\n",
       "    </tr>\n",
       "  </tbody>\n",
       "</table>\n",
       "</div>"
      ],
      "text/plain": [
       "     Month  Use_Paracetamol\n",
       "0  2015-01            12748\n",
       "1  2015-02            13958\n",
       "2  2015-03            12857\n",
       "3  2015-04            13486\n",
       "4  2015-05            13064"
      ]
     },
     "execution_count": 5,
     "metadata": {},
     "output_type": "execute_result"
    }
   ],
   "source": [
    "df['Month'] = pd.to_datetime(df['Month']).dt.to_period('M')\n",
    "df.head()"
   ]
  },
  {
   "cell_type": "code",
   "execution_count": 6,
   "metadata": {},
   "outputs": [
    {
     "data": {
      "text/html": [
       "<div>\n",
       "<style scoped>\n",
       "    .dataframe tbody tr th:only-of-type {\n",
       "        vertical-align: middle;\n",
       "    }\n",
       "\n",
       "    .dataframe tbody tr th {\n",
       "        vertical-align: top;\n",
       "    }\n",
       "\n",
       "    .dataframe thead th {\n",
       "        text-align: right;\n",
       "    }\n",
       "</style>\n",
       "<table border=\"1\" class=\"dataframe\">\n",
       "  <thead>\n",
       "    <tr style=\"text-align: right;\">\n",
       "      <th></th>\n",
       "      <th>Use_Paracetamol</th>\n",
       "    </tr>\n",
       "    <tr>\n",
       "      <th>Month</th>\n",
       "      <th></th>\n",
       "    </tr>\n",
       "  </thead>\n",
       "  <tbody>\n",
       "    <tr>\n",
       "      <th>2015-01</th>\n",
       "      <td>12748</td>\n",
       "    </tr>\n",
       "    <tr>\n",
       "      <th>2015-02</th>\n",
       "      <td>13958</td>\n",
       "    </tr>\n",
       "    <tr>\n",
       "      <th>2015-03</th>\n",
       "      <td>12857</td>\n",
       "    </tr>\n",
       "    <tr>\n",
       "      <th>2015-04</th>\n",
       "      <td>13486</td>\n",
       "    </tr>\n",
       "    <tr>\n",
       "      <th>2015-05</th>\n",
       "      <td>13064</td>\n",
       "    </tr>\n",
       "  </tbody>\n",
       "</table>\n",
       "</div>"
      ],
      "text/plain": [
       "         Use_Paracetamol\n",
       "Month                   \n",
       "2015-01            12748\n",
       "2015-02            13958\n",
       "2015-03            12857\n",
       "2015-04            13486\n",
       "2015-05            13064"
      ]
     },
     "execution_count": 6,
     "metadata": {},
     "output_type": "execute_result"
    }
   ],
   "source": [
    "df.set_index('Month', inplace=True)\n",
    "df.head()"
   ]
  },
  {
   "cell_type": "code",
   "execution_count": 7,
   "metadata": {},
   "outputs": [],
   "source": [
    "df = df.values"
   ]
  },
  {
   "cell_type": "code",
   "execution_count": 8,
   "metadata": {},
   "outputs": [
    {
     "data": {
      "text/plain": [
       "array([[0.28698683],\n",
       "       [0.7556158 ],\n",
       "       [0.32920217],\n",
       "       [0.57281177],\n",
       "       [0.40937258],\n",
       "       [0.40240124],\n",
       "       [0.17544539],\n",
       "       [0.6859024 ],\n",
       "       [0.32997676],\n",
       "       [0.41982959],\n",
       "       [0.71340046],\n",
       "       [0.6506584 ],\n",
       "       [0.71572424],\n",
       "       [0.40317583],\n",
       "       [0.41092177],\n",
       "       [0.0697134 ],\n",
       "       [0.41789311],\n",
       "       [0.75522851],\n",
       "       [0.2203718 ],\n",
       "       [0.3377227 ],\n",
       "       [0.03059644],\n",
       "       [0.7556158 ],\n",
       "       [0.54105345],\n",
       "       [0.73392719],\n",
       "       [0.22773044],\n",
       "       [0.36831913],\n",
       "       [0.63632843],\n",
       "       [0.78659954],\n",
       "       [0.41789311],\n",
       "       [0.46398141],\n",
       "       [0.78659954],\n",
       "       [0.46824167],\n",
       "       [0.46204493],\n",
       "       [0.20991479],\n",
       "       [0.18125484],\n",
       "       [0.35089078],\n",
       "       [0.26336174],\n",
       "       [0.09953524],\n",
       "       [0.75251743],\n",
       "       [0.36909373],\n",
       "       [0.24980635],\n",
       "       [0.35553834],\n",
       "       [0.56738962],\n",
       "       [0.75716499],\n",
       "       [0.59682417],\n",
       "       [0.10883036],\n",
       "       [0.77691712],\n",
       "       [0.85824942],\n",
       "       [0.19635941],\n",
       "       [0.60883036],\n",
       "       [0.59024012],\n",
       "       [0.92099148],\n",
       "       [1.        ],\n",
       "       [0.30015492],\n",
       "       [0.15414407],\n",
       "       [0.01394268],\n",
       "       [0.39814098],\n",
       "       [0.56622773],\n",
       "       [0.77691712],\n",
       "       [0.8721921 ],\n",
       "       [0.87606507],\n",
       "       [0.61502711],\n",
       "       [0.        ],\n",
       "       [0.05886909],\n",
       "       [0.2908598 ],\n",
       "       [0.66150271],\n",
       "       [0.3609605 ],\n",
       "       [0.64446166],\n",
       "       [0.5348567 ],\n",
       "       [0.82958947],\n",
       "       [0.8954299 ],\n",
       "       [0.87838885],\n",
       "       [0.53059644],\n",
       "       [0.25716499],\n",
       "       [0.47792409],\n",
       "       [0.24051123],\n",
       "       [0.42563904],\n",
       "       [0.26219985],\n",
       "       [0.87064291],\n",
       "       [0.70759101],\n",
       "       [0.42718823],\n",
       "       [0.95778466],\n",
       "       [0.48567002],\n",
       "       [0.85205267]])"
      ]
     },
     "execution_count": 8,
     "metadata": {},
     "output_type": "execute_result"
    }
   ],
   "source": [
    "scaler = MinMaxScaler(feature_range=(0, 1))\n",
    "df = scaler.fit_transform(df)\n",
    "df"
   ]
  },
  {
   "cell_type": "code",
   "execution_count": 9,
   "metadata": {},
   "outputs": [
    {
     "name": "stdout",
     "output_type": "stream",
     "text": [
      "67 17\n"
     ]
    }
   ],
   "source": [
    "train_size = int(len(df) * 0.8)\n",
    "test_size = (len(df)) - train_size\n",
    "print(train_size, test_size)"
   ]
  },
  {
   "cell_type": "code",
   "execution_count": 10,
   "metadata": {},
   "outputs": [],
   "source": [
    "train , test = df[0:train_size,:] , df[train_size:len(df),:]"
   ]
  },
  {
   "cell_type": "code",
   "execution_count": 11,
   "metadata": {},
   "outputs": [],
   "source": [
    "def to_sequences(df, seq_size):\n",
    "    x = []\n",
    "    y = []\n",
    "\n",
    "    for i in range(len(df)-seq_size):\n",
    "        window = df[i:(i+seq_size), 0]\n",
    "        x.append(window)\n",
    "        y.append(df[i+seq_size, 0])\n",
    "\n",
    "    return np.array(x), np.array(y)"
   ]
  },
  {
   "cell_type": "code",
   "execution_count": 12,
   "metadata": {},
   "outputs": [
    {
     "name": "stdout",
     "output_type": "stream",
     "text": [
      "Shape of training set: (62, 5)\n",
      "Shape of testinf set: (12, 5)\n"
     ]
    }
   ],
   "source": [
    "seq_size = 5\n",
    "\n",
    "trainX, trainY = to_sequences(train, seq_size)\n",
    "testX, testY = to_sequences(test, seq_size)\n",
    "\n",
    "print(\"Shape of training set: {}\".format(trainX.shape))\n",
    "print(\"Shape of testinf set: {}\".format(testX.shape))"
   ]
  },
  {
   "cell_type": "code",
   "execution_count": 13,
   "metadata": {},
   "outputs": [],
   "source": [
    "mape = MeanAbsolutePercentageError()"
   ]
  },
  {
   "attachments": {},
   "cell_type": "markdown",
   "metadata": {},
   "source": [
    "### Model 14 - 2"
   ]
  },
  {
   "cell_type": "code",
   "execution_count": 14,
   "metadata": {},
   "outputs": [
    {
     "name": "stdout",
     "output_type": "stream",
     "text": [
      "1/1 [==============================] - 0s 123ms/step - loss: 0.0796 - mean_absolute_error: 0.2232\n",
      "2/2 [==============================] - 0s 4ms/step\n",
      "1/1 [==============================] - 0s 36ms/step\n",
      "Model 13\n",
      "Train score: 586.43\n",
      "Test score: 728.32\n",
      "MAPE Train:  4.565586\n",
      "Akurasi Train:  95.43441390991211\n",
      "MAPE Test:  4.2599716\n",
      "Akurasi Test:  95.74002838134766\n"
     ]
    }
   ],
   "source": [
    "model13 = tf.keras.models.Sequential([\n",
    "    tf.keras.layers.Dense(12, input_dim=seq_size,\n",
    "                          kernel_initializer=RandomUniform(minval=-1, maxval=1), bias_initializer=RandomUniform(minval=-1, maxval=1)),\n",
    "    tf.keras.layers.Dense(6, activation='sigmoid',\n",
    "                          kernel_initializer=RandomUniform(minval=-1, maxval=1), bias_initializer=RandomUniform(minval=-1, maxval=1)),\n",
    "    tf.keras.layers.Dense(1, activation='sigmoid',\n",
    "                          kernel_initializer=RandomUniform(minval=-1, maxval=1), bias_initializer=RandomUniform(minval=-1, maxval=1))\n",
    "])\n",
    "\n",
    "model13.compile(loss='mse',\n",
    "               optimizer=tf.keras.optimizers.Adam(0.01),\n",
    "               metrics=[tf.keras.metrics.MeanAbsoluteError()])\n",
    "\n",
    "model13.fit(trainX, trainY, validation_data=(\n",
    "    testX, testY), verbose=0, epochs=100, batch_size=12)\n",
    "\n",
    "model13.evaluate(testX, testY)\n",
    "\n",
    "trainPredict13 = model13.predict(trainX)\n",
    "testPredict13 = model13.predict(testX)\n",
    "\n",
    "trainPredict13 = scaler.inverse_transform(trainPredict13)\n",
    "trainY_inverse = scaler.inverse_transform([trainY])\n",
    "testPredict13 = scaler.inverse_transform(testPredict13)\n",
    "testY_inverse = scaler.inverse_transform([testY])\n",
    "\n",
    "print('Model 13')\n",
    "\n",
    "trainScore13 = math.sqrt(mse(trainY_inverse[0], trainPredict13[:,0]))\n",
    "print('Train score: %.2f' % (trainScore13))\n",
    "\n",
    "testScore13 = math.sqrt(mse(testY_inverse[0], testPredict13[:,0]))\n",
    "print('Test score: %.2f' % (testScore13))\n",
    "\n",
    "mapeTrain13 = mape(trainY_inverse, trainPredict13)\n",
    "print('MAPE Train: ', mapeTrain13.numpy())\n",
    "print('Akurasi Train: ', 100 - (mapeTrain13.numpy()))\n",
    "\n",
    "mape13 = mape(testY_inverse, testPredict13)\n",
    "print('MAPE Test: ', mape13.numpy())\n",
    "print('Akurasi Test: ', 100 - (mape13.numpy()))"
   ]
  },
  {
   "attachments": {},
   "cell_type": "markdown",
   "metadata": {},
   "source": [
    "### Model 14 - 3"
   ]
  },
  {
   "cell_type": "code",
   "execution_count": 15,
   "metadata": {},
   "outputs": [
    {
     "name": "stdout",
     "output_type": "stream",
     "text": [
      "1/1 [==============================] - 0s 122ms/step - loss: 0.0906 - mean_absolute_error: 0.2437\n",
      "2/2 [==============================] - 0s 4ms/step\n",
      "1/1 [==============================] - 0s 29ms/step\n",
      "Model 13\n",
      "Train score: 598.67\n",
      "Test score: 776.99\n",
      "MAPE Train:  4.5733457\n",
      "Akurasi Train:  95.42665433883667\n",
      "MAPE Test:  4.28385\n",
      "Akurasi Test:  95.71614980697632\n"
     ]
    }
   ],
   "source": [
    "model13 = tf.keras.models.Sequential([\n",
    "    tf.keras.layers.Dense(12, input_dim=seq_size,\n",
    "                          kernel_initializer=RandomUniform(minval=-1, maxval=1), bias_initializer=RandomUniform(minval=-1, maxval=1)),\n",
    "    tf.keras.layers.Dense(6, activation='sigmoid',\n",
    "                          kernel_initializer=RandomUniform(minval=-1, maxval=1), bias_initializer=RandomUniform(minval=-1, maxval=1)),\n",
    "    tf.keras.layers.Dense(1, activation='sigmoid',\n",
    "                          kernel_initializer=RandomUniform(minval=-1, maxval=1), bias_initializer=RandomUniform(minval=-1, maxval=1))\n",
    "])\n",
    "\n",
    "model13.compile(loss='mse',\n",
    "               optimizer=tf.keras.optimizers.Adam(0.01),\n",
    "               metrics=[tf.keras.metrics.MeanAbsoluteError()])\n",
    "\n",
    "model13.fit(trainX, trainY, validation_data=(\n",
    "    testX, testY), verbose=0, epochs=100, batch_size=12)\n",
    "\n",
    "model13.evaluate(testX, testY)\n",
    "\n",
    "trainPredict13 = model13.predict(trainX)\n",
    "testPredict13 = model13.predict(testX)\n",
    "\n",
    "trainPredict13 = scaler.inverse_transform(trainPredict13)\n",
    "trainY_inverse = scaler.inverse_transform([trainY])\n",
    "testPredict13 = scaler.inverse_transform(testPredict13)\n",
    "testY_inverse = scaler.inverse_transform([testY])\n",
    "\n",
    "print('Model 13')\n",
    "\n",
    "trainScore13 = math.sqrt(mse(trainY_inverse[0], trainPredict13[:,0]))\n",
    "print('Train score: %.2f' % (trainScore13))\n",
    "\n",
    "testScore13 = math.sqrt(mse(testY_inverse[0], testPredict13[:,0]))\n",
    "print('Test score: %.2f' % (testScore13))\n",
    "\n",
    "mapeTrain13 = mape(trainY_inverse, trainPredict13)\n",
    "print('MAPE Train: ', mapeTrain13.numpy())\n",
    "print('Akurasi Train: ', 100 - (mapeTrain13.numpy()))\n",
    "\n",
    "mape13 = mape(testY_inverse, testPredict13)\n",
    "print('MAPE Test: ', mape13.numpy())\n",
    "print('Akurasi Test: ', 100 - (mape13.numpy()))"
   ]
  },
  {
   "attachments": {},
   "cell_type": "markdown",
   "metadata": {},
   "source": [
    "### Model 14 - 4"
   ]
  },
  {
   "cell_type": "code",
   "execution_count": 16,
   "metadata": {},
   "outputs": [
    {
     "name": "stdout",
     "output_type": "stream",
     "text": [
      "1/1 [==============================] - 0s 131ms/step - loss: 0.0865 - mean_absolute_error: 0.2437\n",
      "2/2 [==============================] - 0s 4ms/step\n",
      "1/1 [==============================] - 0s 30ms/step\n",
      "Model 13\n",
      "Train score: 587.04\n",
      "Test score: 759.54\n",
      "MAPE Train:  4.559694\n",
      "Akurasi Train:  95.44030618667603\n",
      "MAPE Test:  4.322445\n",
      "Akurasi Test:  95.67755508422852\n"
     ]
    }
   ],
   "source": [
    "model13 = tf.keras.models.Sequential([\n",
    "    tf.keras.layers.Dense(12, input_dim=seq_size,\n",
    "                          kernel_initializer=RandomUniform(minval=-1, maxval=1), bias_initializer=RandomUniform(minval=-1, maxval=1)),\n",
    "    tf.keras.layers.Dense(6, activation='sigmoid',\n",
    "                          kernel_initializer=RandomUniform(minval=-1, maxval=1), bias_initializer=RandomUniform(minval=-1, maxval=1)),\n",
    "    tf.keras.layers.Dense(1, activation='sigmoid',\n",
    "                          kernel_initializer=RandomUniform(minval=-1, maxval=1), bias_initializer=RandomUniform(minval=-1, maxval=1))\n",
    "])\n",
    "\n",
    "model13.compile(loss='mse',\n",
    "               optimizer=tf.keras.optimizers.Adam(0.01),\n",
    "               metrics=[tf.keras.metrics.MeanAbsoluteError()])\n",
    "\n",
    "model13.fit(trainX, trainY, validation_data=(\n",
    "    testX, testY), verbose=0, epochs=100, batch_size=12)\n",
    "\n",
    "model13.evaluate(testX, testY)\n",
    "\n",
    "trainPredict13 = model13.predict(trainX)\n",
    "testPredict13 = model13.predict(testX)\n",
    "\n",
    "trainPredict13 = scaler.inverse_transform(trainPredict13)\n",
    "trainY_inverse = scaler.inverse_transform([trainY])\n",
    "testPredict13 = scaler.inverse_transform(testPredict13)\n",
    "testY_inverse = scaler.inverse_transform([testY])\n",
    "\n",
    "print('Model 13')\n",
    "\n",
    "trainScore13 = math.sqrt(mse(trainY_inverse[0], trainPredict13[:,0]))\n",
    "print('Train score: %.2f' % (trainScore13))\n",
    "\n",
    "testScore13 = math.sqrt(mse(testY_inverse[0], testPredict13[:,0]))\n",
    "print('Test score: %.2f' % (testScore13))\n",
    "\n",
    "mapeTrain13 = mape(trainY_inverse, trainPredict13)\n",
    "print('MAPE Train: ', mapeTrain13.numpy())\n",
    "print('Akurasi Train: ', 100 - (mapeTrain13.numpy()))\n",
    "\n",
    "mape13 = mape(testY_inverse, testPredict13)\n",
    "print('MAPE Test: ', mape13.numpy())\n",
    "print('Akurasi Test: ', 100 - (mape13.numpy()))"
   ]
  },
  {
   "attachments": {},
   "cell_type": "markdown",
   "metadata": {},
   "source": [
    "### Model 14 - 5"
   ]
  },
  {
   "cell_type": "code",
   "execution_count": 17,
   "metadata": {},
   "outputs": [
    {
     "name": "stdout",
     "output_type": "stream",
     "text": [
      "1/1 [==============================] - 0s 119ms/step - loss: 0.0935 - mean_absolute_error: 0.2350\n",
      "2/2 [==============================] - 0s 3ms/step\n",
      "1/1 [==============================] - 0s 25ms/step\n",
      "Model 13\n",
      "Train score: 572.24\n",
      "Test score: 789.40\n",
      "MAPE Train:  4.5587034\n",
      "Akurasi Train:  95.44129657745361\n",
      "MAPE Test:  4.34896\n",
      "Akurasi Test:  95.65104007720947\n"
     ]
    }
   ],
   "source": [
    "model13 = tf.keras.models.Sequential([\n",
    "    tf.keras.layers.Dense(12, input_dim=seq_size,\n",
    "                          kernel_initializer=RandomUniform(minval=-1, maxval=1), bias_initializer=RandomUniform(minval=-1, maxval=1)),\n",
    "    tf.keras.layers.Dense(6, activation='sigmoid',\n",
    "                          kernel_initializer=RandomUniform(minval=-1, maxval=1), bias_initializer=RandomUniform(minval=-1, maxval=1)),\n",
    "    tf.keras.layers.Dense(1, activation='sigmoid',\n",
    "                          kernel_initializer=RandomUniform(minval=-1, maxval=1), bias_initializer=RandomUniform(minval=-1, maxval=1))\n",
    "])\n",
    "\n",
    "model13.compile(loss='mse',\n",
    "               optimizer=tf.keras.optimizers.Adam(0.01),\n",
    "               metrics=[tf.keras.metrics.MeanAbsoluteError()])\n",
    "\n",
    "model13.fit(trainX, trainY, validation_data=(\n",
    "    testX, testY), verbose=0, epochs=100, batch_size=12)\n",
    "\n",
    "model13.evaluate(testX, testY)\n",
    "\n",
    "trainPredict13 = model13.predict(trainX)\n",
    "testPredict13 = model13.predict(testX)\n",
    "\n",
    "trainPredict13 = scaler.inverse_transform(trainPredict13)\n",
    "trainY_inverse = scaler.inverse_transform([trainY])\n",
    "testPredict13 = scaler.inverse_transform(testPredict13)\n",
    "testY_inverse = scaler.inverse_transform([testY])\n",
    "\n",
    "print('Model 13')\n",
    "\n",
    "trainScore13 = math.sqrt(mse(trainY_inverse[0], trainPredict13[:,0]))\n",
    "print('Train score: %.2f' % (trainScore13))\n",
    "\n",
    "testScore13 = math.sqrt(mse(testY_inverse[0], testPredict13[:,0]))\n",
    "print('Test score: %.2f' % (testScore13))\n",
    "\n",
    "mapeTrain13 = mape(trainY_inverse, trainPredict13)\n",
    "print('MAPE Train: ', mapeTrain13.numpy())\n",
    "print('Akurasi Train: ', 100 - (mapeTrain13.numpy()))\n",
    "\n",
    "mape13 = mape(testY_inverse, testPredict13)\n",
    "print('MAPE Test: ', mape13.numpy())\n",
    "print('Akurasi Test: ', 100 - (mape13.numpy()))"
   ]
  }
 ],
 "metadata": {
  "kernelspec": {
   "display_name": "Python 3",
   "language": "python",
   "name": "python3"
  },
  "language_info": {
   "codemirror_mode": {
    "name": "ipython",
    "version": 3
   },
   "file_extension": ".py",
   "mimetype": "text/x-python",
   "name": "python",
   "nbconvert_exporter": "python",
   "pygments_lexer": "ipython3",
   "version": "3.10.3"
  },
  "orig_nbformat": 4
 },
 "nbformat": 4,
 "nbformat_minor": 2
}
