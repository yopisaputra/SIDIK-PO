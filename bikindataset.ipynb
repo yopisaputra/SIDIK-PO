{
 "cells": [
  {
   "cell_type": "code",
   "execution_count": 2,
   "metadata": {},
   "outputs": [],
   "source": [
    "import numpy as np\n",
    "import pandas as pd"
   ]
  },
  {
   "cell_type": "code",
   "execution_count": 30,
   "metadata": {},
   "outputs": [],
   "source": [
    "dataset = np.array([[2564.882 ],\n",
    "       [2395.2188],\n",
    "       [2535.8196],\n",
    "       [2413.1929],\n",
    "       [2517.592 ],\n",
    "       [2444.5024],\n",
    "       [2509.8584],\n",
    "       [2563.5737],\n",
    "       [2543.6113],\n",
    "       [2495.0518],\n",
    "       [2548.4456],\n",
    "       [2461.4817]])\n",
    "df = pd.DataFrame(dataset)\n",
    "df.to_excel('vitamin_test_derm.xlsx')\n"
   ]
  }
 ],
 "metadata": {
  "kernelspec": {
   "display_name": "Python 3",
   "language": "python",
   "name": "python3"
  },
  "language_info": {
   "codemirror_mode": {
    "name": "ipython",
    "version": 3
   },
   "file_extension": ".py",
   "mimetype": "text/x-python",
   "name": "python",
   "nbconvert_exporter": "python",
   "pygments_lexer": "ipython3",
   "version": "3.10.3"
  },
  "orig_nbformat": 4
 },
 "nbformat": 4,
 "nbformat_minor": 2
}
