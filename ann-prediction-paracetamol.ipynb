{
 "cells": [
  {
   "attachments": {},
   "cell_type": "markdown",
   "metadata": {},
   "source": [
    "### Import Library"
   ]
  },
  {
   "cell_type": "code",
   "execution_count": 1,
   "metadata": {},
   "outputs": [],
   "source": [
    "import os\n",
    "os.environ[\"CUDA_VISIBLE_DEVICES\"]=\"-1\"\n",
    "\n",
    "import warnings\n",
    "warnings.filterwarnings('ignore')\n",
    "\n",
    "import matplotlib.pyplot as plt\n",
    "import plotly.express as px\n",
    "plt.style.use('fivethirtyeight')\n",
    "\n",
    "from sklearn.preprocessing import MinMaxScaler \n",
    "\n",
    "import tensorflow as tf\n",
    "\n",
    "import numpy as np\n",
    "import pandas as pd\n",
    "import math\n",
    "\n",
    "from sklearn.metrics import mean_squared_error as mse\n",
    "from keras.losses import MeanAbsolutePercentageError\n",
    "\n",
    "from keras.initializers import RandomUniform\n",
    "\n",
    "# Hide GPU from visible devices\n",
    "tf.config.set_visible_devices([], 'GPU')"
   ]
  },
  {
   "attachments": {},
   "cell_type": "markdown",
   "metadata": {},
   "source": [
    "### Import Dataset"
   ]
  },
  {
   "cell_type": "code",
   "execution_count": 2,
   "metadata": {},
   "outputs": [],
   "source": [
    "df = pd.read_csv('data/data_para.csv')"
   ]
  },
  {
   "attachments": {},
   "cell_type": "markdown",
   "metadata": {},
   "source": [
    "### EDA"
   ]
  },
  {
   "cell_type": "code",
   "execution_count": 3,
   "metadata": {},
   "outputs": [
    {
     "data": {
      "text/html": [
       "<div>\n",
       "<style scoped>\n",
       "    .dataframe tbody tr th:only-of-type {\n",
       "        vertical-align: middle;\n",
       "    }\n",
       "\n",
       "    .dataframe tbody tr th {\n",
       "        vertical-align: top;\n",
       "    }\n",
       "\n",
       "    .dataframe thead th {\n",
       "        text-align: right;\n",
       "    }\n",
       "</style>\n",
       "<table border=\"1\" class=\"dataframe\">\n",
       "  <thead>\n",
       "    <tr style=\"text-align: right;\">\n",
       "      <th></th>\n",
       "      <th>Month</th>\n",
       "      <th>Use_Paracetamol</th>\n",
       "    </tr>\n",
       "  </thead>\n",
       "  <tbody>\n",
       "    <tr>\n",
       "      <th>0</th>\n",
       "      <td>2015-01-01</td>\n",
       "      <td>12748</td>\n",
       "    </tr>\n",
       "    <tr>\n",
       "      <th>1</th>\n",
       "      <td>2015-02-01</td>\n",
       "      <td>13958</td>\n",
       "    </tr>\n",
       "    <tr>\n",
       "      <th>2</th>\n",
       "      <td>2015-03-01</td>\n",
       "      <td>12857</td>\n",
       "    </tr>\n",
       "    <tr>\n",
       "      <th>3</th>\n",
       "      <td>2015-04-01</td>\n",
       "      <td>13486</td>\n",
       "    </tr>\n",
       "    <tr>\n",
       "      <th>4</th>\n",
       "      <td>2015-05-01</td>\n",
       "      <td>13064</td>\n",
       "    </tr>\n",
       "  </tbody>\n",
       "</table>\n",
       "</div>"
      ],
      "text/plain": [
       "        Month  Use_Paracetamol\n",
       "0  2015-01-01            12748\n",
       "1  2015-02-01            13958\n",
       "2  2015-03-01            12857\n",
       "3  2015-04-01            13486\n",
       "4  2015-05-01            13064"
      ]
     },
     "execution_count": 3,
     "metadata": {},
     "output_type": "execute_result"
    }
   ],
   "source": [
    "# Convert Dataset into DataFrame\n",
    "# dataset = pd.DataFrame(dataset)\n",
    "df.head()"
   ]
  },
  {
   "cell_type": "code",
   "execution_count": 4,
   "metadata": {},
   "outputs": [
    {
     "name": "stdout",
     "output_type": "stream",
     "text": [
      "<class 'pandas.core.frame.DataFrame'>\n",
      "RangeIndex: 84 entries, 0 to 83\n",
      "Data columns (total 2 columns):\n",
      " #   Column           Non-Null Count  Dtype \n",
      "---  ------           --------------  ----- \n",
      " 0   Month            84 non-null     object\n",
      " 1   Use_Paracetamol  84 non-null     int64 \n",
      "dtypes: int64(1), object(1)\n",
      "memory usage: 1.4+ KB\n"
     ]
    }
   ],
   "source": [
    "df.info()"
   ]
  },
  {
   "cell_type": "code",
   "execution_count": 5,
   "metadata": {},
   "outputs": [
    {
     "data": {
      "text/plain": [
       "Month              0\n",
       "Use_Paracetamol    0\n",
       "dtype: int64"
      ]
     },
     "execution_count": 5,
     "metadata": {},
     "output_type": "execute_result"
    }
   ],
   "source": [
    "df.isna().sum()"
   ]
  },
  {
   "cell_type": "code",
   "execution_count": 6,
   "metadata": {},
   "outputs": [
    {
     "data": {
      "text/html": [
       "<div>\n",
       "<style scoped>\n",
       "    .dataframe tbody tr th:only-of-type {\n",
       "        vertical-align: middle;\n",
       "    }\n",
       "\n",
       "    .dataframe tbody tr th {\n",
       "        vertical-align: top;\n",
       "    }\n",
       "\n",
       "    .dataframe thead th {\n",
       "        text-align: right;\n",
       "    }\n",
       "</style>\n",
       "<table border=\"1\" class=\"dataframe\">\n",
       "  <thead>\n",
       "    <tr style=\"text-align: right;\">\n",
       "      <th></th>\n",
       "      <th>Use_Paracetamol</th>\n",
       "    </tr>\n",
       "  </thead>\n",
       "  <tbody>\n",
       "    <tr>\n",
       "      <th>count</th>\n",
       "      <td>84.000000</td>\n",
       "    </tr>\n",
       "    <tr>\n",
       "      <th>mean</th>\n",
       "      <td>13291.166667</td>\n",
       "    </tr>\n",
       "    <tr>\n",
       "      <th>std</th>\n",
       "      <td>663.332420</td>\n",
       "    </tr>\n",
       "    <tr>\n",
       "      <th>min</th>\n",
       "      <td>12007.000000</td>\n",
       "    </tr>\n",
       "    <tr>\n",
       "      <th>25%</th>\n",
       "      <td>12776.000000</td>\n",
       "    </tr>\n",
       "    <tr>\n",
       "      <th>50%</th>\n",
       "      <td>13210.500000</td>\n",
       "    </tr>\n",
       "    <tr>\n",
       "      <th>75%</th>\n",
       "      <td>13866.750000</td>\n",
       "    </tr>\n",
       "    <tr>\n",
       "      <th>max</th>\n",
       "      <td>14589.000000</td>\n",
       "    </tr>\n",
       "  </tbody>\n",
       "</table>\n",
       "</div>"
      ],
      "text/plain": [
       "       Use_Paracetamol\n",
       "count        84.000000\n",
       "mean      13291.166667\n",
       "std         663.332420\n",
       "min       12007.000000\n",
       "25%       12776.000000\n",
       "50%       13210.500000\n",
       "75%       13866.750000\n",
       "max       14589.000000"
      ]
     },
     "execution_count": 6,
     "metadata": {},
     "output_type": "execute_result"
    }
   ],
   "source": [
    "df.describe()"
   ]
  },
  {
   "cell_type": "code",
   "execution_count": 7,
   "metadata": {},
   "outputs": [
    {
     "data": {
      "text/html": [
       "<div>\n",
       "<style scoped>\n",
       "    .dataframe tbody tr th:only-of-type {\n",
       "        vertical-align: middle;\n",
       "    }\n",
       "\n",
       "    .dataframe tbody tr th {\n",
       "        vertical-align: top;\n",
       "    }\n",
       "\n",
       "    .dataframe thead th {\n",
       "        text-align: right;\n",
       "    }\n",
       "</style>\n",
       "<table border=\"1\" class=\"dataframe\">\n",
       "  <thead>\n",
       "    <tr style=\"text-align: right;\">\n",
       "      <th></th>\n",
       "      <th>Month</th>\n",
       "      <th>Use_Paracetamol</th>\n",
       "    </tr>\n",
       "  </thead>\n",
       "  <tbody>\n",
       "    <tr>\n",
       "      <th>0</th>\n",
       "      <td>2015-01-01</td>\n",
       "      <td>12748</td>\n",
       "    </tr>\n",
       "    <tr>\n",
       "      <th>1</th>\n",
       "      <td>2015-02-01</td>\n",
       "      <td>13958</td>\n",
       "    </tr>\n",
       "    <tr>\n",
       "      <th>2</th>\n",
       "      <td>2015-03-01</td>\n",
       "      <td>12857</td>\n",
       "    </tr>\n",
       "    <tr>\n",
       "      <th>3</th>\n",
       "      <td>2015-04-01</td>\n",
       "      <td>13486</td>\n",
       "    </tr>\n",
       "    <tr>\n",
       "      <th>4</th>\n",
       "      <td>2015-05-01</td>\n",
       "      <td>13064</td>\n",
       "    </tr>\n",
       "  </tbody>\n",
       "</table>\n",
       "</div>"
      ],
      "text/plain": [
       "        Month  Use_Paracetamol\n",
       "0  2015-01-01            12748\n",
       "1  2015-02-01            13958\n",
       "2  2015-03-01            12857\n",
       "3  2015-04-01            13486\n",
       "4  2015-05-01            13064"
      ]
     },
     "execution_count": 7,
     "metadata": {},
     "output_type": "execute_result"
    }
   ],
   "source": [
    "df['Month'] = pd.to_datetime(df['Month']).dt.date\n",
    "df.head()"
   ]
  },
  {
   "cell_type": "code",
   "execution_count": 8,
   "metadata": {},
   "outputs": [
    {
     "data": {
      "application/vnd.plotly.v1+json": {
       "config": {
        "plotlyServerURL": "https://plot.ly"
       },
       "data": [
        {
         "hovertemplate": "Month=%{x}<br>Use_Paracetamol=%{y}<extra></extra>",
         "legendgroup": "",
         "line": {
          "color": "#636efa",
          "dash": "solid"
         },
         "marker": {
          "symbol": "circle"
         },
         "mode": "lines",
         "name": "",
         "orientation": "v",
         "showlegend": false,
         "type": "scatter",
         "x": [
          "2015-01-01",
          "2015-02-01",
          "2015-03-01",
          "2015-04-01",
          "2015-05-01",
          "2015-06-01",
          "2015-07-01",
          "2015-08-01",
          "2015-09-01",
          "2015-10-01",
          "2015-11-01",
          "2015-12-01",
          "2016-01-01",
          "2016-02-01",
          "2016-03-01",
          "2016-04-01",
          "2016-05-01",
          "2016-06-01",
          "2016-07-01",
          "2016-08-01",
          "2016-09-01",
          "2016-10-01",
          "2016-11-01",
          "2016-12-01",
          "2017-01-01",
          "2017-02-01",
          "2017-03-01",
          "2017-04-01",
          "2017-05-01",
          "2017-06-01",
          "2017-07-01",
          "2017-08-01",
          "2017-09-01",
          "2017-10-01",
          "2017-11-01",
          "2017-12-01",
          "2018-01-01",
          "2018-02-01",
          "2018-03-01",
          "2018-04-01",
          "2018-05-01",
          "2018-06-01",
          "2018-07-01",
          "2018-08-01",
          "2018-09-01",
          "2018-10-01",
          "2018-11-01",
          "2018-12-01",
          "2019-01-01",
          "2019-02-01",
          "2019-03-01",
          "2019-04-01",
          "2019-05-01",
          "2019-06-01",
          "2019-07-01",
          "2019-08-01",
          "2019-09-01",
          "2019-10-01",
          "2019-11-01",
          "2019-12-01",
          "2020-01-01",
          "2020-02-01",
          "2020-03-01",
          "2020-04-01",
          "2020-05-01",
          "2020-06-01",
          "2020-07-01",
          "2020-08-01",
          "2020-09-01",
          "2020-10-01",
          "2020-11-01",
          "2020-12-01",
          "2021-01-01",
          "2021-02-01",
          "2021-03-01",
          "2021-04-01",
          "2021-05-01",
          "2021-06-01",
          "2021-07-01",
          "2021-08-01",
          "2021-09-01",
          "2021-10-01",
          "2021-11-01",
          "2021-12-01"
         ],
         "xaxis": "x",
         "y": [
          12748,
          13958,
          12857,
          13486,
          13064,
          13046,
          12460,
          13778,
          12859,
          13091,
          13849,
          13687,
          13855,
          13048,
          13068,
          12187,
          13086,
          13957,
          12576,
          12879,
          12086,
          13958,
          13404,
          13902,
          12595,
          12958,
          13650,
          14038,
          13086,
          13205,
          14038,
          13216,
          13200,
          12549,
          12475,
          12913,
          12687,
          12264,
          13950,
          12960,
          12652,
          12925,
          13472,
          13962,
          13548,
          12288,
          14013,
          14223,
          12514,
          13579,
          13531,
          14385,
          14589,
          12782,
          12405,
          12043,
          13035,
          13469,
          14013,
          14259,
          14269,
          13595,
          12007,
          12159,
          12758,
          13715,
          12939,
          13671,
          13388,
          14149,
          14319,
          14275,
          13377,
          12671,
          13241,
          12628,
          13106,
          12684,
          14255,
          13834,
          13110,
          14480,
          13261,
          14207
         ],
         "yaxis": "y"
        }
       ],
       "layout": {
        "legend": {
         "tracegroupgap": 0
        },
        "margin": {
         "t": 60
        },
        "template": {
         "data": {
          "bar": [
           {
            "error_x": {
             "color": "#2a3f5f"
            },
            "error_y": {
             "color": "#2a3f5f"
            },
            "marker": {
             "line": {
              "color": "#E5ECF6",
              "width": 0.5
             },
             "pattern": {
              "fillmode": "overlay",
              "size": 10,
              "solidity": 0.2
             }
            },
            "type": "bar"
           }
          ],
          "barpolar": [
           {
            "marker": {
             "line": {
              "color": "#E5ECF6",
              "width": 0.5
             },
             "pattern": {
              "fillmode": "overlay",
              "size": 10,
              "solidity": 0.2
             }
            },
            "type": "barpolar"
           }
          ],
          "carpet": [
           {
            "aaxis": {
             "endlinecolor": "#2a3f5f",
             "gridcolor": "white",
             "linecolor": "white",
             "minorgridcolor": "white",
             "startlinecolor": "#2a3f5f"
            },
            "baxis": {
             "endlinecolor": "#2a3f5f",
             "gridcolor": "white",
             "linecolor": "white",
             "minorgridcolor": "white",
             "startlinecolor": "#2a3f5f"
            },
            "type": "carpet"
           }
          ],
          "choropleth": [
           {
            "colorbar": {
             "outlinewidth": 0,
             "ticks": ""
            },
            "type": "choropleth"
           }
          ],
          "contour": [
           {
            "colorbar": {
             "outlinewidth": 0,
             "ticks": ""
            },
            "colorscale": [
             [
              0,
              "#0d0887"
             ],
             [
              0.1111111111111111,
              "#46039f"
             ],
             [
              0.2222222222222222,
              "#7201a8"
             ],
             [
              0.3333333333333333,
              "#9c179e"
             ],
             [
              0.4444444444444444,
              "#bd3786"
             ],
             [
              0.5555555555555556,
              "#d8576b"
             ],
             [
              0.6666666666666666,
              "#ed7953"
             ],
             [
              0.7777777777777778,
              "#fb9f3a"
             ],
             [
              0.8888888888888888,
              "#fdca26"
             ],
             [
              1,
              "#f0f921"
             ]
            ],
            "type": "contour"
           }
          ],
          "contourcarpet": [
           {
            "colorbar": {
             "outlinewidth": 0,
             "ticks": ""
            },
            "type": "contourcarpet"
           }
          ],
          "heatmap": [
           {
            "colorbar": {
             "outlinewidth": 0,
             "ticks": ""
            },
            "colorscale": [
             [
              0,
              "#0d0887"
             ],
             [
              0.1111111111111111,
              "#46039f"
             ],
             [
              0.2222222222222222,
              "#7201a8"
             ],
             [
              0.3333333333333333,
              "#9c179e"
             ],
             [
              0.4444444444444444,
              "#bd3786"
             ],
             [
              0.5555555555555556,
              "#d8576b"
             ],
             [
              0.6666666666666666,
              "#ed7953"
             ],
             [
              0.7777777777777778,
              "#fb9f3a"
             ],
             [
              0.8888888888888888,
              "#fdca26"
             ],
             [
              1,
              "#f0f921"
             ]
            ],
            "type": "heatmap"
           }
          ],
          "heatmapgl": [
           {
            "colorbar": {
             "outlinewidth": 0,
             "ticks": ""
            },
            "colorscale": [
             [
              0,
              "#0d0887"
             ],
             [
              0.1111111111111111,
              "#46039f"
             ],
             [
              0.2222222222222222,
              "#7201a8"
             ],
             [
              0.3333333333333333,
              "#9c179e"
             ],
             [
              0.4444444444444444,
              "#bd3786"
             ],
             [
              0.5555555555555556,
              "#d8576b"
             ],
             [
              0.6666666666666666,
              "#ed7953"
             ],
             [
              0.7777777777777778,
              "#fb9f3a"
             ],
             [
              0.8888888888888888,
              "#fdca26"
             ],
             [
              1,
              "#f0f921"
             ]
            ],
            "type": "heatmapgl"
           }
          ],
          "histogram": [
           {
            "marker": {
             "pattern": {
              "fillmode": "overlay",
              "size": 10,
              "solidity": 0.2
             }
            },
            "type": "histogram"
           }
          ],
          "histogram2d": [
           {
            "colorbar": {
             "outlinewidth": 0,
             "ticks": ""
            },
            "colorscale": [
             [
              0,
              "#0d0887"
             ],
             [
              0.1111111111111111,
              "#46039f"
             ],
             [
              0.2222222222222222,
              "#7201a8"
             ],
             [
              0.3333333333333333,
              "#9c179e"
             ],
             [
              0.4444444444444444,
              "#bd3786"
             ],
             [
              0.5555555555555556,
              "#d8576b"
             ],
             [
              0.6666666666666666,
              "#ed7953"
             ],
             [
              0.7777777777777778,
              "#fb9f3a"
             ],
             [
              0.8888888888888888,
              "#fdca26"
             ],
             [
              1,
              "#f0f921"
             ]
            ],
            "type": "histogram2d"
           }
          ],
          "histogram2dcontour": [
           {
            "colorbar": {
             "outlinewidth": 0,
             "ticks": ""
            },
            "colorscale": [
             [
              0,
              "#0d0887"
             ],
             [
              0.1111111111111111,
              "#46039f"
             ],
             [
              0.2222222222222222,
              "#7201a8"
             ],
             [
              0.3333333333333333,
              "#9c179e"
             ],
             [
              0.4444444444444444,
              "#bd3786"
             ],
             [
              0.5555555555555556,
              "#d8576b"
             ],
             [
              0.6666666666666666,
              "#ed7953"
             ],
             [
              0.7777777777777778,
              "#fb9f3a"
             ],
             [
              0.8888888888888888,
              "#fdca26"
             ],
             [
              1,
              "#f0f921"
             ]
            ],
            "type": "histogram2dcontour"
           }
          ],
          "mesh3d": [
           {
            "colorbar": {
             "outlinewidth": 0,
             "ticks": ""
            },
            "type": "mesh3d"
           }
          ],
          "parcoords": [
           {
            "line": {
             "colorbar": {
              "outlinewidth": 0,
              "ticks": ""
             }
            },
            "type": "parcoords"
           }
          ],
          "pie": [
           {
            "automargin": true,
            "type": "pie"
           }
          ],
          "scatter": [
           {
            "fillpattern": {
             "fillmode": "overlay",
             "size": 10,
             "solidity": 0.2
            },
            "type": "scatter"
           }
          ],
          "scatter3d": [
           {
            "line": {
             "colorbar": {
              "outlinewidth": 0,
              "ticks": ""
             }
            },
            "marker": {
             "colorbar": {
              "outlinewidth": 0,
              "ticks": ""
             }
            },
            "type": "scatter3d"
           }
          ],
          "scattercarpet": [
           {
            "marker": {
             "colorbar": {
              "outlinewidth": 0,
              "ticks": ""
             }
            },
            "type": "scattercarpet"
           }
          ],
          "scattergeo": [
           {
            "marker": {
             "colorbar": {
              "outlinewidth": 0,
              "ticks": ""
             }
            },
            "type": "scattergeo"
           }
          ],
          "scattergl": [
           {
            "marker": {
             "colorbar": {
              "outlinewidth": 0,
              "ticks": ""
             }
            },
            "type": "scattergl"
           }
          ],
          "scattermapbox": [
           {
            "marker": {
             "colorbar": {
              "outlinewidth": 0,
              "ticks": ""
             }
            },
            "type": "scattermapbox"
           }
          ],
          "scatterpolar": [
           {
            "marker": {
             "colorbar": {
              "outlinewidth": 0,
              "ticks": ""
             }
            },
            "type": "scatterpolar"
           }
          ],
          "scatterpolargl": [
           {
            "marker": {
             "colorbar": {
              "outlinewidth": 0,
              "ticks": ""
             }
            },
            "type": "scatterpolargl"
           }
          ],
          "scatterternary": [
           {
            "marker": {
             "colorbar": {
              "outlinewidth": 0,
              "ticks": ""
             }
            },
            "type": "scatterternary"
           }
          ],
          "surface": [
           {
            "colorbar": {
             "outlinewidth": 0,
             "ticks": ""
            },
            "colorscale": [
             [
              0,
              "#0d0887"
             ],
             [
              0.1111111111111111,
              "#46039f"
             ],
             [
              0.2222222222222222,
              "#7201a8"
             ],
             [
              0.3333333333333333,
              "#9c179e"
             ],
             [
              0.4444444444444444,
              "#bd3786"
             ],
             [
              0.5555555555555556,
              "#d8576b"
             ],
             [
              0.6666666666666666,
              "#ed7953"
             ],
             [
              0.7777777777777778,
              "#fb9f3a"
             ],
             [
              0.8888888888888888,
              "#fdca26"
             ],
             [
              1,
              "#f0f921"
             ]
            ],
            "type": "surface"
           }
          ],
          "table": [
           {
            "cells": {
             "fill": {
              "color": "#EBF0F8"
             },
             "line": {
              "color": "white"
             }
            },
            "header": {
             "fill": {
              "color": "#C8D4E3"
             },
             "line": {
              "color": "white"
             }
            },
            "type": "table"
           }
          ]
         },
         "layout": {
          "annotationdefaults": {
           "arrowcolor": "#2a3f5f",
           "arrowhead": 0,
           "arrowwidth": 1
          },
          "autotypenumbers": "strict",
          "coloraxis": {
           "colorbar": {
            "outlinewidth": 0,
            "ticks": ""
           }
          },
          "colorscale": {
           "diverging": [
            [
             0,
             "#8e0152"
            ],
            [
             0.1,
             "#c51b7d"
            ],
            [
             0.2,
             "#de77ae"
            ],
            [
             0.3,
             "#f1b6da"
            ],
            [
             0.4,
             "#fde0ef"
            ],
            [
             0.5,
             "#f7f7f7"
            ],
            [
             0.6,
             "#e6f5d0"
            ],
            [
             0.7,
             "#b8e186"
            ],
            [
             0.8,
             "#7fbc41"
            ],
            [
             0.9,
             "#4d9221"
            ],
            [
             1,
             "#276419"
            ]
           ],
           "sequential": [
            [
             0,
             "#0d0887"
            ],
            [
             0.1111111111111111,
             "#46039f"
            ],
            [
             0.2222222222222222,
             "#7201a8"
            ],
            [
             0.3333333333333333,
             "#9c179e"
            ],
            [
             0.4444444444444444,
             "#bd3786"
            ],
            [
             0.5555555555555556,
             "#d8576b"
            ],
            [
             0.6666666666666666,
             "#ed7953"
            ],
            [
             0.7777777777777778,
             "#fb9f3a"
            ],
            [
             0.8888888888888888,
             "#fdca26"
            ],
            [
             1,
             "#f0f921"
            ]
           ],
           "sequentialminus": [
            [
             0,
             "#0d0887"
            ],
            [
             0.1111111111111111,
             "#46039f"
            ],
            [
             0.2222222222222222,
             "#7201a8"
            ],
            [
             0.3333333333333333,
             "#9c179e"
            ],
            [
             0.4444444444444444,
             "#bd3786"
            ],
            [
             0.5555555555555556,
             "#d8576b"
            ],
            [
             0.6666666666666666,
             "#ed7953"
            ],
            [
             0.7777777777777778,
             "#fb9f3a"
            ],
            [
             0.8888888888888888,
             "#fdca26"
            ],
            [
             1,
             "#f0f921"
            ]
           ]
          },
          "colorway": [
           "#636efa",
           "#EF553B",
           "#00cc96",
           "#ab63fa",
           "#FFA15A",
           "#19d3f3",
           "#FF6692",
           "#B6E880",
           "#FF97FF",
           "#FECB52"
          ],
          "font": {
           "color": "#2a3f5f"
          },
          "geo": {
           "bgcolor": "white",
           "lakecolor": "white",
           "landcolor": "#E5ECF6",
           "showlakes": true,
           "showland": true,
           "subunitcolor": "white"
          },
          "hoverlabel": {
           "align": "left"
          },
          "hovermode": "closest",
          "mapbox": {
           "style": "light"
          },
          "paper_bgcolor": "white",
          "plot_bgcolor": "#E5ECF6",
          "polar": {
           "angularaxis": {
            "gridcolor": "white",
            "linecolor": "white",
            "ticks": ""
           },
           "bgcolor": "#E5ECF6",
           "radialaxis": {
            "gridcolor": "white",
            "linecolor": "white",
            "ticks": ""
           }
          },
          "scene": {
           "xaxis": {
            "backgroundcolor": "#E5ECF6",
            "gridcolor": "white",
            "gridwidth": 2,
            "linecolor": "white",
            "showbackground": true,
            "ticks": "",
            "zerolinecolor": "white"
           },
           "yaxis": {
            "backgroundcolor": "#E5ECF6",
            "gridcolor": "white",
            "gridwidth": 2,
            "linecolor": "white",
            "showbackground": true,
            "ticks": "",
            "zerolinecolor": "white"
           },
           "zaxis": {
            "backgroundcolor": "#E5ECF6",
            "gridcolor": "white",
            "gridwidth": 2,
            "linecolor": "white",
            "showbackground": true,
            "ticks": "",
            "zerolinecolor": "white"
           }
          },
          "shapedefaults": {
           "line": {
            "color": "#2a3f5f"
           }
          },
          "ternary": {
           "aaxis": {
            "gridcolor": "white",
            "linecolor": "white",
            "ticks": ""
           },
           "baxis": {
            "gridcolor": "white",
            "linecolor": "white",
            "ticks": ""
           },
           "bgcolor": "#E5ECF6",
           "caxis": {
            "gridcolor": "white",
            "linecolor": "white",
            "ticks": ""
           }
          },
          "title": {
           "x": 0.05
          },
          "xaxis": {
           "automargin": true,
           "gridcolor": "white",
           "linecolor": "white",
           "ticks": "",
           "title": {
            "standoff": 15
           },
           "zerolinecolor": "white",
           "zerolinewidth": 2
          },
          "yaxis": {
           "automargin": true,
           "gridcolor": "white",
           "linecolor": "white",
           "ticks": "",
           "title": {
            "standoff": 15
           },
           "zerolinecolor": "white",
           "zerolinewidth": 2
          }
         }
        },
        "xaxis": {
         "anchor": "y",
         "domain": [
          0,
          1
         ],
         "title": {
          "text": "Month"
         }
        },
        "yaxis": {
         "anchor": "x",
         "domain": [
          0,
          1
         ],
         "title": {
          "text": "Use_Paracetamol"
         }
        }
       }
      }
     },
     "metadata": {},
     "output_type": "display_data"
    }
   ],
   "source": [
    "plot = px.line(df, x=df.Month, y=df.Use_Paracetamol)\n",
    "plot.show()"
   ]
  },
  {
   "cell_type": "code",
   "execution_count": 9,
   "metadata": {},
   "outputs": [
    {
     "data": {
      "application/vnd.plotly.v1+json": {
       "config": {
        "plotlyServerURL": "https://plot.ly"
       },
       "data": [
        {
         "alignmentgroup": "True",
         "bingroup": "x",
         "hovertemplate": "Use_Paracetamol=%{x}<br>count=%{y}<extra></extra>",
         "legendgroup": "",
         "marker": {
          "color": "#636efa",
          "pattern": {
           "shape": ""
          }
         },
         "name": "",
         "offsetgroup": "",
         "orientation": "v",
         "showlegend": false,
         "type": "histogram",
         "x": [
          12748,
          13958,
          12857,
          13486,
          13064,
          13046,
          12460,
          13778,
          12859,
          13091,
          13849,
          13687,
          13855,
          13048,
          13068,
          12187,
          13086,
          13957,
          12576,
          12879,
          12086,
          13958,
          13404,
          13902,
          12595,
          12958,
          13650,
          14038,
          13086,
          13205,
          14038,
          13216,
          13200,
          12549,
          12475,
          12913,
          12687,
          12264,
          13950,
          12960,
          12652,
          12925,
          13472,
          13962,
          13548,
          12288,
          14013,
          14223,
          12514,
          13579,
          13531,
          14385,
          14589,
          12782,
          12405,
          12043,
          13035,
          13469,
          14013,
          14259,
          14269,
          13595,
          12007,
          12159,
          12758,
          13715,
          12939,
          13671,
          13388,
          14149,
          14319,
          14275,
          13377,
          12671,
          13241,
          12628,
          13106,
          12684,
          14255,
          13834,
          13110,
          14480,
          13261,
          14207
         ],
         "xaxis": "x",
         "yaxis": "y"
        },
        {
         "alignmentgroup": "True",
         "hovertemplate": "Use_Paracetamol=%{x}<extra></extra>",
         "legendgroup": "",
         "marker": {
          "color": "#636efa"
         },
         "name": "",
         "notched": true,
         "offsetgroup": "",
         "showlegend": false,
         "type": "box",
         "x": [
          12748,
          13958,
          12857,
          13486,
          13064,
          13046,
          12460,
          13778,
          12859,
          13091,
          13849,
          13687,
          13855,
          13048,
          13068,
          12187,
          13086,
          13957,
          12576,
          12879,
          12086,
          13958,
          13404,
          13902,
          12595,
          12958,
          13650,
          14038,
          13086,
          13205,
          14038,
          13216,
          13200,
          12549,
          12475,
          12913,
          12687,
          12264,
          13950,
          12960,
          12652,
          12925,
          13472,
          13962,
          13548,
          12288,
          14013,
          14223,
          12514,
          13579,
          13531,
          14385,
          14589,
          12782,
          12405,
          12043,
          13035,
          13469,
          14013,
          14259,
          14269,
          13595,
          12007,
          12159,
          12758,
          13715,
          12939,
          13671,
          13388,
          14149,
          14319,
          14275,
          13377,
          12671,
          13241,
          12628,
          13106,
          12684,
          14255,
          13834,
          13110,
          14480,
          13261,
          14207
         ],
         "xaxis": "x2",
         "yaxis": "y2"
        }
       ],
       "layout": {
        "barmode": "relative",
        "legend": {
         "tracegroupgap": 0
        },
        "margin": {
         "t": 60
        },
        "template": {
         "data": {
          "bar": [
           {
            "error_x": {
             "color": "#2a3f5f"
            },
            "error_y": {
             "color": "#2a3f5f"
            },
            "marker": {
             "line": {
              "color": "#E5ECF6",
              "width": 0.5
             },
             "pattern": {
              "fillmode": "overlay",
              "size": 10,
              "solidity": 0.2
             }
            },
            "type": "bar"
           }
          ],
          "barpolar": [
           {
            "marker": {
             "line": {
              "color": "#E5ECF6",
              "width": 0.5
             },
             "pattern": {
              "fillmode": "overlay",
              "size": 10,
              "solidity": 0.2
             }
            },
            "type": "barpolar"
           }
          ],
          "carpet": [
           {
            "aaxis": {
             "endlinecolor": "#2a3f5f",
             "gridcolor": "white",
             "linecolor": "white",
             "minorgridcolor": "white",
             "startlinecolor": "#2a3f5f"
            },
            "baxis": {
             "endlinecolor": "#2a3f5f",
             "gridcolor": "white",
             "linecolor": "white",
             "minorgridcolor": "white",
             "startlinecolor": "#2a3f5f"
            },
            "type": "carpet"
           }
          ],
          "choropleth": [
           {
            "colorbar": {
             "outlinewidth": 0,
             "ticks": ""
            },
            "type": "choropleth"
           }
          ],
          "contour": [
           {
            "colorbar": {
             "outlinewidth": 0,
             "ticks": ""
            },
            "colorscale": [
             [
              0,
              "#0d0887"
             ],
             [
              0.1111111111111111,
              "#46039f"
             ],
             [
              0.2222222222222222,
              "#7201a8"
             ],
             [
              0.3333333333333333,
              "#9c179e"
             ],
             [
              0.4444444444444444,
              "#bd3786"
             ],
             [
              0.5555555555555556,
              "#d8576b"
             ],
             [
              0.6666666666666666,
              "#ed7953"
             ],
             [
              0.7777777777777778,
              "#fb9f3a"
             ],
             [
              0.8888888888888888,
              "#fdca26"
             ],
             [
              1,
              "#f0f921"
             ]
            ],
            "type": "contour"
           }
          ],
          "contourcarpet": [
           {
            "colorbar": {
             "outlinewidth": 0,
             "ticks": ""
            },
            "type": "contourcarpet"
           }
          ],
          "heatmap": [
           {
            "colorbar": {
             "outlinewidth": 0,
             "ticks": ""
            },
            "colorscale": [
             [
              0,
              "#0d0887"
             ],
             [
              0.1111111111111111,
              "#46039f"
             ],
             [
              0.2222222222222222,
              "#7201a8"
             ],
             [
              0.3333333333333333,
              "#9c179e"
             ],
             [
              0.4444444444444444,
              "#bd3786"
             ],
             [
              0.5555555555555556,
              "#d8576b"
             ],
             [
              0.6666666666666666,
              "#ed7953"
             ],
             [
              0.7777777777777778,
              "#fb9f3a"
             ],
             [
              0.8888888888888888,
              "#fdca26"
             ],
             [
              1,
              "#f0f921"
             ]
            ],
            "type": "heatmap"
           }
          ],
          "heatmapgl": [
           {
            "colorbar": {
             "outlinewidth": 0,
             "ticks": ""
            },
            "colorscale": [
             [
              0,
              "#0d0887"
             ],
             [
              0.1111111111111111,
              "#46039f"
             ],
             [
              0.2222222222222222,
              "#7201a8"
             ],
             [
              0.3333333333333333,
              "#9c179e"
             ],
             [
              0.4444444444444444,
              "#bd3786"
             ],
             [
              0.5555555555555556,
              "#d8576b"
             ],
             [
              0.6666666666666666,
              "#ed7953"
             ],
             [
              0.7777777777777778,
              "#fb9f3a"
             ],
             [
              0.8888888888888888,
              "#fdca26"
             ],
             [
              1,
              "#f0f921"
             ]
            ],
            "type": "heatmapgl"
           }
          ],
          "histogram": [
           {
            "marker": {
             "pattern": {
              "fillmode": "overlay",
              "size": 10,
              "solidity": 0.2
             }
            },
            "type": "histogram"
           }
          ],
          "histogram2d": [
           {
            "colorbar": {
             "outlinewidth": 0,
             "ticks": ""
            },
            "colorscale": [
             [
              0,
              "#0d0887"
             ],
             [
              0.1111111111111111,
              "#46039f"
             ],
             [
              0.2222222222222222,
              "#7201a8"
             ],
             [
              0.3333333333333333,
              "#9c179e"
             ],
             [
              0.4444444444444444,
              "#bd3786"
             ],
             [
              0.5555555555555556,
              "#d8576b"
             ],
             [
              0.6666666666666666,
              "#ed7953"
             ],
             [
              0.7777777777777778,
              "#fb9f3a"
             ],
             [
              0.8888888888888888,
              "#fdca26"
             ],
             [
              1,
              "#f0f921"
             ]
            ],
            "type": "histogram2d"
           }
          ],
          "histogram2dcontour": [
           {
            "colorbar": {
             "outlinewidth": 0,
             "ticks": ""
            },
            "colorscale": [
             [
              0,
              "#0d0887"
             ],
             [
              0.1111111111111111,
              "#46039f"
             ],
             [
              0.2222222222222222,
              "#7201a8"
             ],
             [
              0.3333333333333333,
              "#9c179e"
             ],
             [
              0.4444444444444444,
              "#bd3786"
             ],
             [
              0.5555555555555556,
              "#d8576b"
             ],
             [
              0.6666666666666666,
              "#ed7953"
             ],
             [
              0.7777777777777778,
              "#fb9f3a"
             ],
             [
              0.8888888888888888,
              "#fdca26"
             ],
             [
              1,
              "#f0f921"
             ]
            ],
            "type": "histogram2dcontour"
           }
          ],
          "mesh3d": [
           {
            "colorbar": {
             "outlinewidth": 0,
             "ticks": ""
            },
            "type": "mesh3d"
           }
          ],
          "parcoords": [
           {
            "line": {
             "colorbar": {
              "outlinewidth": 0,
              "ticks": ""
             }
            },
            "type": "parcoords"
           }
          ],
          "pie": [
           {
            "automargin": true,
            "type": "pie"
           }
          ],
          "scatter": [
           {
            "fillpattern": {
             "fillmode": "overlay",
             "size": 10,
             "solidity": 0.2
            },
            "type": "scatter"
           }
          ],
          "scatter3d": [
           {
            "line": {
             "colorbar": {
              "outlinewidth": 0,
              "ticks": ""
             }
            },
            "marker": {
             "colorbar": {
              "outlinewidth": 0,
              "ticks": ""
             }
            },
            "type": "scatter3d"
           }
          ],
          "scattercarpet": [
           {
            "marker": {
             "colorbar": {
              "outlinewidth": 0,
              "ticks": ""
             }
            },
            "type": "scattercarpet"
           }
          ],
          "scattergeo": [
           {
            "marker": {
             "colorbar": {
              "outlinewidth": 0,
              "ticks": ""
             }
            },
            "type": "scattergeo"
           }
          ],
          "scattergl": [
           {
            "marker": {
             "colorbar": {
              "outlinewidth": 0,
              "ticks": ""
             }
            },
            "type": "scattergl"
           }
          ],
          "scattermapbox": [
           {
            "marker": {
             "colorbar": {
              "outlinewidth": 0,
              "ticks": ""
             }
            },
            "type": "scattermapbox"
           }
          ],
          "scatterpolar": [
           {
            "marker": {
             "colorbar": {
              "outlinewidth": 0,
              "ticks": ""
             }
            },
            "type": "scatterpolar"
           }
          ],
          "scatterpolargl": [
           {
            "marker": {
             "colorbar": {
              "outlinewidth": 0,
              "ticks": ""
             }
            },
            "type": "scatterpolargl"
           }
          ],
          "scatterternary": [
           {
            "marker": {
             "colorbar": {
              "outlinewidth": 0,
              "ticks": ""
             }
            },
            "type": "scatterternary"
           }
          ],
          "surface": [
           {
            "colorbar": {
             "outlinewidth": 0,
             "ticks": ""
            },
            "colorscale": [
             [
              0,
              "#0d0887"
             ],
             [
              0.1111111111111111,
              "#46039f"
             ],
             [
              0.2222222222222222,
              "#7201a8"
             ],
             [
              0.3333333333333333,
              "#9c179e"
             ],
             [
              0.4444444444444444,
              "#bd3786"
             ],
             [
              0.5555555555555556,
              "#d8576b"
             ],
             [
              0.6666666666666666,
              "#ed7953"
             ],
             [
              0.7777777777777778,
              "#fb9f3a"
             ],
             [
              0.8888888888888888,
              "#fdca26"
             ],
             [
              1,
              "#f0f921"
             ]
            ],
            "type": "surface"
           }
          ],
          "table": [
           {
            "cells": {
             "fill": {
              "color": "#EBF0F8"
             },
             "line": {
              "color": "white"
             }
            },
            "header": {
             "fill": {
              "color": "#C8D4E3"
             },
             "line": {
              "color": "white"
             }
            },
            "type": "table"
           }
          ]
         },
         "layout": {
          "annotationdefaults": {
           "arrowcolor": "#2a3f5f",
           "arrowhead": 0,
           "arrowwidth": 1
          },
          "autotypenumbers": "strict",
          "coloraxis": {
           "colorbar": {
            "outlinewidth": 0,
            "ticks": ""
           }
          },
          "colorscale": {
           "diverging": [
            [
             0,
             "#8e0152"
            ],
            [
             0.1,
             "#c51b7d"
            ],
            [
             0.2,
             "#de77ae"
            ],
            [
             0.3,
             "#f1b6da"
            ],
            [
             0.4,
             "#fde0ef"
            ],
            [
             0.5,
             "#f7f7f7"
            ],
            [
             0.6,
             "#e6f5d0"
            ],
            [
             0.7,
             "#b8e186"
            ],
            [
             0.8,
             "#7fbc41"
            ],
            [
             0.9,
             "#4d9221"
            ],
            [
             1,
             "#276419"
            ]
           ],
           "sequential": [
            [
             0,
             "#0d0887"
            ],
            [
             0.1111111111111111,
             "#46039f"
            ],
            [
             0.2222222222222222,
             "#7201a8"
            ],
            [
             0.3333333333333333,
             "#9c179e"
            ],
            [
             0.4444444444444444,
             "#bd3786"
            ],
            [
             0.5555555555555556,
             "#d8576b"
            ],
            [
             0.6666666666666666,
             "#ed7953"
            ],
            [
             0.7777777777777778,
             "#fb9f3a"
            ],
            [
             0.8888888888888888,
             "#fdca26"
            ],
            [
             1,
             "#f0f921"
            ]
           ],
           "sequentialminus": [
            [
             0,
             "#0d0887"
            ],
            [
             0.1111111111111111,
             "#46039f"
            ],
            [
             0.2222222222222222,
             "#7201a8"
            ],
            [
             0.3333333333333333,
             "#9c179e"
            ],
            [
             0.4444444444444444,
             "#bd3786"
            ],
            [
             0.5555555555555556,
             "#d8576b"
            ],
            [
             0.6666666666666666,
             "#ed7953"
            ],
            [
             0.7777777777777778,
             "#fb9f3a"
            ],
            [
             0.8888888888888888,
             "#fdca26"
            ],
            [
             1,
             "#f0f921"
            ]
           ]
          },
          "colorway": [
           "#636efa",
           "#EF553B",
           "#00cc96",
           "#ab63fa",
           "#FFA15A",
           "#19d3f3",
           "#FF6692",
           "#B6E880",
           "#FF97FF",
           "#FECB52"
          ],
          "font": {
           "color": "#2a3f5f"
          },
          "geo": {
           "bgcolor": "white",
           "lakecolor": "white",
           "landcolor": "#E5ECF6",
           "showlakes": true,
           "showland": true,
           "subunitcolor": "white"
          },
          "hoverlabel": {
           "align": "left"
          },
          "hovermode": "closest",
          "mapbox": {
           "style": "light"
          },
          "paper_bgcolor": "white",
          "plot_bgcolor": "#E5ECF6",
          "polar": {
           "angularaxis": {
            "gridcolor": "white",
            "linecolor": "white",
            "ticks": ""
           },
           "bgcolor": "#E5ECF6",
           "radialaxis": {
            "gridcolor": "white",
            "linecolor": "white",
            "ticks": ""
           }
          },
          "scene": {
           "xaxis": {
            "backgroundcolor": "#E5ECF6",
            "gridcolor": "white",
            "gridwidth": 2,
            "linecolor": "white",
            "showbackground": true,
            "ticks": "",
            "zerolinecolor": "white"
           },
           "yaxis": {
            "backgroundcolor": "#E5ECF6",
            "gridcolor": "white",
            "gridwidth": 2,
            "linecolor": "white",
            "showbackground": true,
            "ticks": "",
            "zerolinecolor": "white"
           },
           "zaxis": {
            "backgroundcolor": "#E5ECF6",
            "gridcolor": "white",
            "gridwidth": 2,
            "linecolor": "white",
            "showbackground": true,
            "ticks": "",
            "zerolinecolor": "white"
           }
          },
          "shapedefaults": {
           "line": {
            "color": "#2a3f5f"
           }
          },
          "ternary": {
           "aaxis": {
            "gridcolor": "white",
            "linecolor": "white",
            "ticks": ""
           },
           "baxis": {
            "gridcolor": "white",
            "linecolor": "white",
            "ticks": ""
           },
           "bgcolor": "#E5ECF6",
           "caxis": {
            "gridcolor": "white",
            "linecolor": "white",
            "ticks": ""
           }
          },
          "title": {
           "x": 0.05
          },
          "xaxis": {
           "automargin": true,
           "gridcolor": "white",
           "linecolor": "white",
           "ticks": "",
           "title": {
            "standoff": 15
           },
           "zerolinecolor": "white",
           "zerolinewidth": 2
          },
          "yaxis": {
           "automargin": true,
           "gridcolor": "white",
           "linecolor": "white",
           "ticks": "",
           "title": {
            "standoff": 15
           },
           "zerolinecolor": "white",
           "zerolinewidth": 2
          }
         }
        },
        "xaxis": {
         "anchor": "y",
         "domain": [
          0,
          1
         ],
         "title": {
          "text": "Use_Paracetamol"
         }
        },
        "xaxis2": {
         "anchor": "y2",
         "domain": [
          0,
          1
         ],
         "matches": "x",
         "showgrid": true,
         "showticklabels": false
        },
        "yaxis": {
         "anchor": "x",
         "domain": [
          0,
          0.8316
         ],
         "title": {
          "text": "count"
         }
        },
        "yaxis2": {
         "anchor": "x2",
         "domain": [
          0.8416,
          1
         ],
         "matches": "y2",
         "showgrid": false,
         "showline": false,
         "showticklabels": false,
         "ticks": ""
        }
       }
      }
     },
     "metadata": {},
     "output_type": "display_data"
    }
   ],
   "source": [
    "plot = px.histogram(df, x=df.Use_Paracetamol, marginal='box')\n",
    "plot.show()"
   ]
  },
  {
   "attachments": {},
   "cell_type": "markdown",
   "metadata": {},
   "source": [
    "### Data Preprocessing"
   ]
  },
  {
   "cell_type": "code",
   "execution_count": 10,
   "metadata": {},
   "outputs": [
    {
     "data": {
      "text/html": [
       "<div>\n",
       "<style scoped>\n",
       "    .dataframe tbody tr th:only-of-type {\n",
       "        vertical-align: middle;\n",
       "    }\n",
       "\n",
       "    .dataframe tbody tr th {\n",
       "        vertical-align: top;\n",
       "    }\n",
       "\n",
       "    .dataframe thead th {\n",
       "        text-align: right;\n",
       "    }\n",
       "</style>\n",
       "<table border=\"1\" class=\"dataframe\">\n",
       "  <thead>\n",
       "    <tr style=\"text-align: right;\">\n",
       "      <th></th>\n",
       "      <th>Month</th>\n",
       "      <th>Use_Paracetamol</th>\n",
       "    </tr>\n",
       "  </thead>\n",
       "  <tbody>\n",
       "    <tr>\n",
       "      <th>0</th>\n",
       "      <td>2015-01</td>\n",
       "      <td>12748</td>\n",
       "    </tr>\n",
       "    <tr>\n",
       "      <th>1</th>\n",
       "      <td>2015-02</td>\n",
       "      <td>13958</td>\n",
       "    </tr>\n",
       "    <tr>\n",
       "      <th>2</th>\n",
       "      <td>2015-03</td>\n",
       "      <td>12857</td>\n",
       "    </tr>\n",
       "    <tr>\n",
       "      <th>3</th>\n",
       "      <td>2015-04</td>\n",
       "      <td>13486</td>\n",
       "    </tr>\n",
       "    <tr>\n",
       "      <th>4</th>\n",
       "      <td>2015-05</td>\n",
       "      <td>13064</td>\n",
       "    </tr>\n",
       "  </tbody>\n",
       "</table>\n",
       "</div>"
      ],
      "text/plain": [
       "     Month  Use_Paracetamol\n",
       "0  2015-01            12748\n",
       "1  2015-02            13958\n",
       "2  2015-03            12857\n",
       "3  2015-04            13486\n",
       "4  2015-05            13064"
      ]
     },
     "execution_count": 10,
     "metadata": {},
     "output_type": "execute_result"
    }
   ],
   "source": [
    "df['Month'] = pd.to_datetime(df['Month']).dt.to_period('M')\n",
    "df.head()"
   ]
  },
  {
   "cell_type": "code",
   "execution_count": 11,
   "metadata": {},
   "outputs": [
    {
     "data": {
      "text/html": [
       "<div>\n",
       "<style scoped>\n",
       "    .dataframe tbody tr th:only-of-type {\n",
       "        vertical-align: middle;\n",
       "    }\n",
       "\n",
       "    .dataframe tbody tr th {\n",
       "        vertical-align: top;\n",
       "    }\n",
       "\n",
       "    .dataframe thead th {\n",
       "        text-align: right;\n",
       "    }\n",
       "</style>\n",
       "<table border=\"1\" class=\"dataframe\">\n",
       "  <thead>\n",
       "    <tr style=\"text-align: right;\">\n",
       "      <th></th>\n",
       "      <th>Use_Paracetamol</th>\n",
       "    </tr>\n",
       "    <tr>\n",
       "      <th>Month</th>\n",
       "      <th></th>\n",
       "    </tr>\n",
       "  </thead>\n",
       "  <tbody>\n",
       "    <tr>\n",
       "      <th>2015-01</th>\n",
       "      <td>12748</td>\n",
       "    </tr>\n",
       "    <tr>\n",
       "      <th>2015-02</th>\n",
       "      <td>13958</td>\n",
       "    </tr>\n",
       "    <tr>\n",
       "      <th>2015-03</th>\n",
       "      <td>12857</td>\n",
       "    </tr>\n",
       "    <tr>\n",
       "      <th>2015-04</th>\n",
       "      <td>13486</td>\n",
       "    </tr>\n",
       "    <tr>\n",
       "      <th>2015-05</th>\n",
       "      <td>13064</td>\n",
       "    </tr>\n",
       "  </tbody>\n",
       "</table>\n",
       "</div>"
      ],
      "text/plain": [
       "         Use_Paracetamol\n",
       "Month                   \n",
       "2015-01            12748\n",
       "2015-02            13958\n",
       "2015-03            12857\n",
       "2015-04            13486\n",
       "2015-05            13064"
      ]
     },
     "execution_count": 11,
     "metadata": {},
     "output_type": "execute_result"
    }
   ],
   "source": [
    "df.set_index('Month', inplace=True)\n",
    "df.head()"
   ]
  },
  {
   "cell_type": "code",
   "execution_count": 12,
   "metadata": {},
   "outputs": [],
   "source": [
    "df = df.values"
   ]
  },
  {
   "cell_type": "code",
   "execution_count": 13,
   "metadata": {},
   "outputs": [
    {
     "data": {
      "text/plain": [
       "array([[0.28698683],\n",
       "       [0.7556158 ],\n",
       "       [0.32920217],\n",
       "       [0.57281177],\n",
       "       [0.40937258],\n",
       "       [0.40240124],\n",
       "       [0.17544539],\n",
       "       [0.6859024 ],\n",
       "       [0.32997676],\n",
       "       [0.41982959],\n",
       "       [0.71340046],\n",
       "       [0.6506584 ],\n",
       "       [0.71572424],\n",
       "       [0.40317583],\n",
       "       [0.41092177],\n",
       "       [0.0697134 ],\n",
       "       [0.41789311],\n",
       "       [0.75522851],\n",
       "       [0.2203718 ],\n",
       "       [0.3377227 ],\n",
       "       [0.03059644],\n",
       "       [0.7556158 ],\n",
       "       [0.54105345],\n",
       "       [0.73392719],\n",
       "       [0.22773044],\n",
       "       [0.36831913],\n",
       "       [0.63632843],\n",
       "       [0.78659954],\n",
       "       [0.41789311],\n",
       "       [0.46398141],\n",
       "       [0.78659954],\n",
       "       [0.46824167],\n",
       "       [0.46204493],\n",
       "       [0.20991479],\n",
       "       [0.18125484],\n",
       "       [0.35089078],\n",
       "       [0.26336174],\n",
       "       [0.09953524],\n",
       "       [0.75251743],\n",
       "       [0.36909373],\n",
       "       [0.24980635],\n",
       "       [0.35553834],\n",
       "       [0.56738962],\n",
       "       [0.75716499],\n",
       "       [0.59682417],\n",
       "       [0.10883036],\n",
       "       [0.77691712],\n",
       "       [0.85824942],\n",
       "       [0.19635941],\n",
       "       [0.60883036],\n",
       "       [0.59024012],\n",
       "       [0.92099148],\n",
       "       [1.        ],\n",
       "       [0.30015492],\n",
       "       [0.15414407],\n",
       "       [0.01394268],\n",
       "       [0.39814098],\n",
       "       [0.56622773],\n",
       "       [0.77691712],\n",
       "       [0.8721921 ],\n",
       "       [0.87606507],\n",
       "       [0.61502711],\n",
       "       [0.        ],\n",
       "       [0.05886909],\n",
       "       [0.2908598 ],\n",
       "       [0.66150271],\n",
       "       [0.3609605 ],\n",
       "       [0.64446166],\n",
       "       [0.5348567 ],\n",
       "       [0.82958947],\n",
       "       [0.8954299 ],\n",
       "       [0.87838885],\n",
       "       [0.53059644],\n",
       "       [0.25716499],\n",
       "       [0.47792409],\n",
       "       [0.24051123],\n",
       "       [0.42563904],\n",
       "       [0.26219985],\n",
       "       [0.87064291],\n",
       "       [0.70759101],\n",
       "       [0.42718823],\n",
       "       [0.95778466],\n",
       "       [0.48567002],\n",
       "       [0.85205267]])"
      ]
     },
     "execution_count": 13,
     "metadata": {},
     "output_type": "execute_result"
    }
   ],
   "source": [
    "scaler = MinMaxScaler(feature_range=(0, 1))\n",
    "df = scaler.fit_transform(df)\n",
    "df"
   ]
  },
  {
   "cell_type": "code",
   "execution_count": 14,
   "metadata": {},
   "outputs": [
    {
     "name": "stdout",
     "output_type": "stream",
     "text": [
      "67 17\n"
     ]
    }
   ],
   "source": [
    "train_size = int(len(df) * 0.8)\n",
    "test_size = (len(df)) - train_size\n",
    "print(train_size, test_size)"
   ]
  },
  {
   "cell_type": "code",
   "execution_count": 15,
   "metadata": {},
   "outputs": [],
   "source": [
    "train , test = df[0:train_size,:] , df[train_size:len(df),:]"
   ]
  },
  {
   "cell_type": "code",
   "execution_count": 16,
   "metadata": {},
   "outputs": [],
   "source": [
    "def to_sequences(df, seq_size):\n",
    "    x = []\n",
    "    y = []\n",
    "\n",
    "    for i in range(len(df)-seq_size):\n",
    "        window = df[i:(i+seq_size), 0]\n",
    "        x.append(window)\n",
    "        y.append(df[i+seq_size, 0])\n",
    "\n",
    "    return np.array(x), np.array(y)"
   ]
  },
  {
   "cell_type": "code",
   "execution_count": 17,
   "metadata": {},
   "outputs": [
    {
     "name": "stdout",
     "output_type": "stream",
     "text": [
      "Shape of training set: (62, 5)\n",
      "Shape of testinf set: (12, 5)\n"
     ]
    }
   ],
   "source": [
    "seq_size = 5\n",
    "\n",
    "trainX, trainY = to_sequences(train, seq_size)\n",
    "testX, testY = to_sequences(test, seq_size)\n",
    "\n",
    "print(\"Shape of training set: {}\".format(trainX.shape))\n",
    "print(\"Shape of testinf set: {}\".format(testX.shape))"
   ]
  },
  {
   "cell_type": "code",
   "execution_count": 18,
   "metadata": {},
   "outputs": [],
   "source": [
    "mape = MeanAbsolutePercentageError()"
   ]
  },
  {
   "attachments": {},
   "cell_type": "markdown",
   "metadata": {},
   "source": [
    "### Model 1"
   ]
  },
  {
   "cell_type": "code",
   "execution_count": 19,
   "metadata": {},
   "outputs": [
    {
     "name": "stdout",
     "output_type": "stream",
     "text": [
      "1/1 [==============================] - 0s 134ms/step - loss: 0.0757 - mean_absolute_error: 0.2041\n"
     ]
    },
    {
     "data": {
      "text/plain": [
       "[0.07566865533590317, 0.2040807455778122]"
      ]
     },
     "execution_count": 19,
     "metadata": {},
     "output_type": "execute_result"
    }
   ],
   "source": [
    "model1 = tf.keras.models.Sequential([\n",
    "    tf.keras.layers.Dense(12, input_dim=seq_size,\n",
    "                          kernel_initializer=RandomUniform(minval=-1, maxval=1), bias_initializer=RandomUniform(minval=-1, maxval=1)),\n",
    "    tf.keras.layers.Dense(10, activation='sigmoid',\n",
    "                          kernel_initializer=RandomUniform(minval=-1, maxval=1), bias_initializer=RandomUniform(minval=-1, maxval=1)),\n",
    "    tf.keras.layers.Dense(1, activation='sigmoid',\n",
    "                          kernel_initializer=RandomUniform(minval=-1, maxval=1), bias_initializer=RandomUniform(minval=-1, maxval=1))\n",
    "])\n",
    "\n",
    "model1.compile(loss='mse',\n",
    "               optimizer=tf.keras.optimizers.Adam(0.01),\n",
    "               metrics=[tf.keras.metrics.MeanAbsoluteError()])\n",
    "\n",
    "model1.fit(trainX, trainY, validation_data=(\n",
    "    testX, testY), verbose=0, epochs=50, batch_size=6)\n",
    "\n",
    "model1.evaluate(testX, testY)\n"
   ]
  },
  {
   "cell_type": "code",
   "execution_count": 20,
   "metadata": {},
   "outputs": [
    {
     "name": "stdout",
     "output_type": "stream",
     "text": [
      "2/2 [==============================] - 0s 1ms/step\n",
      "1/1 [==============================] - 0s 25ms/step\n",
      "Model 1\n",
      "Train score  : 610.17\n",
      "Test score   : 710.25\n"
     ]
    }
   ],
   "source": [
    "trainPredict1 = model1.predict(trainX)\n",
    "testPredict1 = model1.predict(testX)\n",
    "\n",
    "trainPredict1 = scaler.inverse_transform(trainPredict1)\n",
    "trainY_inverse = scaler.inverse_transform([trainY])\n",
    "testPredict1 = scaler.inverse_transform(testPredict1)\n",
    "testY_inverse = scaler.inverse_transform([testY])\n",
    "\n",
    "print('Model 1')\n",
    "\n",
    "trainScore1 = math.sqrt(mse(trainY_inverse[0], trainPredict1[:,0]))\n",
    "print('Train score  : %.2f' % (trainScore1))\n",
    "\n",
    "testScore1 = math.sqrt(mse(testY_inverse[0], testPredict1[:,0]))\n",
    "print('Test score   : %.2f' % (testScore1))"
   ]
  },
  {
   "cell_type": "code",
   "execution_count": 21,
   "metadata": {},
   "outputs": [
    {
     "name": "stdout",
     "output_type": "stream",
     "text": [
      "MAPE Train   :   4.519136\n",
      "Akurasi Train:  95.48086404800415\n",
      "MAPE Test    :   4.165355\n",
      "Akurasi Test :  95.83464479446411\n"
     ]
    }
   ],
   "source": [
    "mapeTrain1 = mape(trainY_inverse, trainPredict1)\n",
    "print('MAPE Train   :  ', mapeTrain1.numpy())\n",
    "print('Akurasi Train: ', 100 - (mapeTrain1.numpy()))\n",
    "\n",
    "mape1 = mape(testY_inverse, testPredict1)\n",
    "print('MAPE Test    :  ', mape1.numpy())\n",
    "print('Akurasi Test : ', 100 - (mape1.numpy()))"
   ]
  },
  {
   "attachments": {},
   "cell_type": "markdown",
   "metadata": {},
   "source": [
    "### Model 2"
   ]
  },
  {
   "cell_type": "code",
   "execution_count": 22,
   "metadata": {},
   "outputs": [
    {
     "name": "stdout",
     "output_type": "stream",
     "text": [
      "1/1 [==============================] - 0s 118ms/step - loss: 0.0927 - mean_absolute_error: 0.2422\n"
     ]
    },
    {
     "data": {
      "text/plain": [
       "[0.09267163276672363, 0.24220526218414307]"
      ]
     },
     "execution_count": 22,
     "metadata": {},
     "output_type": "execute_result"
    }
   ],
   "source": [
    "model2 = tf.keras.models.Sequential([\n",
    "    tf.keras.layers.Dense(12, input_dim=seq_size,\n",
    "                          kernel_initializer=RandomUniform(minval=-1, maxval=1), bias_initializer=RandomUniform(minval=-1, maxval=1)),\n",
    "    tf.keras.layers.Dense(10, activation='sigmoid',\n",
    "                          kernel_initializer=RandomUniform(minval=-1, maxval=1), bias_initializer=RandomUniform(minval=-1, maxval=1)),\n",
    "    tf.keras.layers.Dense(1, activation='sigmoid',\n",
    "                          kernel_initializer=RandomUniform(minval=-1, maxval=1), bias_initializer=RandomUniform(minval=-1, maxval=1))\n",
    "])\n",
    "\n",
    "model2.compile(loss='mse',\n",
    "               optimizer=tf.keras.optimizers.Adam(0.01),\n",
    "               metrics=[tf.keras.metrics.MeanAbsoluteError()])\n",
    "\n",
    "model2.fit(trainX, trainY, validation_data=(\n",
    "    testX, testY), verbose=0, epochs=100, batch_size=6)\n",
    "\n",
    "model2.evaluate(testX, testY)\n"
   ]
  },
  {
   "cell_type": "code",
   "execution_count": 23,
   "metadata": {},
   "outputs": [
    {
     "name": "stdout",
     "output_type": "stream",
     "text": [
      "2/2 [==============================] - 0s 3ms/step\n",
      "1/1 [==============================] - 0s 24ms/step\n",
      "Model 2\n",
      "Train score: 573.76\n",
      "Test score: 786.01\n"
     ]
    }
   ],
   "source": [
    "trainPredict2 = model2.predict(trainX)\n",
    "testPredict2 = model2.predict(testX)\n",
    "\n",
    "trainPredict2 = scaler.inverse_transform(trainPredict2)\n",
    "trainY_inverse = scaler.inverse_transform([trainY])\n",
    "testPredict2 = scaler.inverse_transform(testPredict2)\n",
    "testY_inverse = scaler.inverse_transform([testY])\n",
    "\n",
    "print('Model 2')\n",
    "\n",
    "trainScore2 = math.sqrt(mse(trainY_inverse[0], trainPredict2[:,0]))\n",
    "print('Train score: %.2f' % (trainScore2))\n",
    "\n",
    "testScore2 = math.sqrt(mse(testY_inverse[0], testPredict2[:,0]))\n",
    "print('Test score: %.2f' % (testScore2))"
   ]
  },
  {
   "cell_type": "code",
   "execution_count": 24,
   "metadata": {},
   "outputs": [
    {
     "name": "stdout",
     "output_type": "stream",
     "text": [
      "MAPE Train:  4.5371013\n",
      "Akurasi Train:  95.46289873123169\n",
      "MAPE Test:  4.2857113\n",
      "Akurasi Test:  95.71428871154785\n"
     ]
    }
   ],
   "source": [
    "mapeTrain2 = mape(trainY_inverse, trainPredict2)\n",
    "print('MAPE Train: ', mapeTrain2.numpy())\n",
    "print('Akurasi Train: ', 100 - (mapeTrain2.numpy()))\n",
    "\n",
    "mape2 = mape(testY_inverse, testPredict2)\n",
    "print('MAPE Test: ', mape2.numpy())\n",
    "print('Akurasi Test: ', 100 - (mape2.numpy()))"
   ]
  },
  {
   "attachments": {},
   "cell_type": "markdown",
   "metadata": {},
   "source": [
    "### Model 3"
   ]
  },
  {
   "cell_type": "code",
   "execution_count": 25,
   "metadata": {},
   "outputs": [
    {
     "name": "stdout",
     "output_type": "stream",
     "text": [
      "1/1 [==============================] - 0s 116ms/step - loss: 0.1117 - mean_absolute_error: 0.2747\n"
     ]
    },
    {
     "data": {
      "text/plain": [
       "[0.11170793324708939, 0.27468833327293396]"
      ]
     },
     "execution_count": 25,
     "metadata": {},
     "output_type": "execute_result"
    }
   ],
   "source": [
    "model3 = tf.keras.models.Sequential([\n",
    "    tf.keras.layers.Dense(12, input_dim=seq_size,\n",
    "                          kernel_initializer=RandomUniform(minval=-1, maxval=1), bias_initializer=RandomUniform(minval=-1, maxval=1)),\n",
    "    tf.keras.layers.Dense(10, activation='sigmoid',\n",
    "                          kernel_initializer=RandomUniform(minval=-1, maxval=1), bias_initializer=RandomUniform(minval=-1, maxval=1)),\n",
    "    tf.keras.layers.Dense(1, activation='sigmoid',\n",
    "                          kernel_initializer=RandomUniform(minval=-1, maxval=1), bias_initializer=RandomUniform(minval=-1, maxval=1))\n",
    "])\n",
    "\n",
    "model3.compile(loss='mse',\n",
    "               optimizer=tf.keras.optimizers.Adam(0.01),\n",
    "               metrics=[tf.keras.metrics.MeanAbsoluteError()])\n",
    "\n",
    "model3.fit(trainX, trainY, validation_data=(\n",
    "    testX, testY), verbose=0, epochs=150, batch_size=6)\n",
    "\n",
    "model3.evaluate(testX, testY)\n"
   ]
  },
  {
   "cell_type": "code",
   "execution_count": 26,
   "metadata": {},
   "outputs": [
    {
     "name": "stdout",
     "output_type": "stream",
     "text": [
      "2/2 [==============================] - 0s 3ms/step\n",
      "1/1 [==============================] - 0s 25ms/step\n",
      "Model 3\n",
      "Train score: 485.74\n",
      "Test score: 862.97\n"
     ]
    }
   ],
   "source": [
    "trainPredict3 = model3.predict(trainX)\n",
    "testPredict3 = model3.predict(testX)\n",
    "\n",
    "trainPredict3 = scaler.inverse_transform(trainPredict3)\n",
    "trainY_inverse = scaler.inverse_transform([trainY])\n",
    "testPredict3 = scaler.inverse_transform(testPredict3)\n",
    "testY_inverse = scaler.inverse_transform([testY])\n",
    "\n",
    "print('Model 3')\n",
    "\n",
    "trainScore3 = math.sqrt(mse(trainY_inverse[0], trainPredict3[:,0]))\n",
    "print('Train score: %.2f' % (trainScore3))\n",
    "\n",
    "testScore3 = math.sqrt(mse(testY_inverse[0], testPredict3[:,0]))\n",
    "print('Test score: %.2f' % (testScore3))"
   ]
  },
  {
   "cell_type": "code",
   "execution_count": 27,
   "metadata": {},
   "outputs": [
    {
     "name": "stdout",
     "output_type": "stream",
     "text": [
      "MAPE Train:  4.822483\n",
      "Akurasi Train:  95.17751693725586\n",
      "MAPE Test:  4.666567\n",
      "Akurasi Test:  95.33343315124512\n"
     ]
    }
   ],
   "source": [
    "mapeTrain3 = mape(trainY_inverse, trainPredict3)\n",
    "print('MAPE Train: ', mapeTrain3.numpy())\n",
    "print('Akurasi Train: ', 100 - (mapeTrain3.numpy()))\n",
    "\n",
    "mape3 = mape(testY_inverse, testPredict3)\n",
    "print('MAPE Test: ', mape3.numpy())\n",
    "print('Akurasi Test: ', 100 - (mape3.numpy()))"
   ]
  },
  {
   "attachments": {},
   "cell_type": "markdown",
   "metadata": {},
   "source": [
    "### Model 4"
   ]
  },
  {
   "cell_type": "code",
   "execution_count": 28,
   "metadata": {},
   "outputs": [
    {
     "name": "stdout",
     "output_type": "stream",
     "text": [
      "1/1 [==============================] - 0s 137ms/step - loss: 0.1095 - mean_absolute_error: 0.2554\n"
     ]
    },
    {
     "data": {
      "text/plain": [
       "[0.10948512703180313, 0.2553575038909912]"
      ]
     },
     "execution_count": 28,
     "metadata": {},
     "output_type": "execute_result"
    }
   ],
   "source": [
    "model4 = tf.keras.models.Sequential([\n",
    "    tf.keras.layers.Dense(12, input_dim=seq_size,\n",
    "                          kernel_initializer=RandomUniform(minval=-1, maxval=1), bias_initializer=RandomUniform(minval=-1, maxval=1)),\n",
    "    tf.keras.layers.Dense(10, activation='sigmoid',\n",
    "                          kernel_initializer=RandomUniform(minval=-1, maxval=1), bias_initializer=RandomUniform(minval=-1, maxval=1)),\n",
    "    tf.keras.layers.Dense(1, activation='sigmoid',\n",
    "                          kernel_initializer=RandomUniform(minval=-1, maxval=1), bias_initializer=RandomUniform(minval=-1, maxval=1))\n",
    "])\n",
    "\n",
    "model4.compile(loss='mse',\n",
    "               optimizer=tf.keras.optimizers.Adam(0.01),\n",
    "               metrics=[tf.keras.metrics.MeanAbsoluteError()])\n",
    "\n",
    "model4.fit(trainX, trainY, validation_data=(\n",
    "    testX, testY), verbose=0, epochs=200, batch_size=6)\n",
    "\n",
    "model4.evaluate(testX, testY)\n"
   ]
  },
  {
   "cell_type": "code",
   "execution_count": 29,
   "metadata": {},
   "outputs": [
    {
     "name": "stdout",
     "output_type": "stream",
     "text": [
      "2/2 [==============================] - 0s 3ms/step\n",
      "1/1 [==============================] - 0s 25ms/step\n",
      "Model 4\n",
      "Train score: 426.75\n",
      "Test score: 854.35\n"
     ]
    }
   ],
   "source": [
    "trainPredict4 = model4.predict(trainX)\n",
    "testPredict4 = model4.predict(testX)\n",
    "\n",
    "trainPredict4 = scaler.inverse_transform(trainPredict4)\n",
    "trainY_inverse = scaler.inverse_transform([trainY])\n",
    "testPredict4 = scaler.inverse_transform(testPredict4)\n",
    "testY_inverse = scaler.inverse_transform([testY])\n",
    "\n",
    "print('Model 4')\n",
    "\n",
    "trainScore4 = math.sqrt(mse(trainY_inverse[0], trainPredict4[:,0]))\n",
    "print('Train score: %.2f' % (trainScore4))\n",
    "\n",
    "testScore4 = math.sqrt(mse(testY_inverse[0], testPredict4[:,0]))\n",
    "print('Test score: %.2f' % (testScore4))"
   ]
  },
  {
   "cell_type": "code",
   "execution_count": 30,
   "metadata": {},
   "outputs": [
    {
     "name": "stdout",
     "output_type": "stream",
     "text": [
      "MAPE Train:  5.024774\n",
      "Akurasi Train:  94.97522592544556\n",
      "MAPE Test:  5.0565085\n",
      "Akurasi Test:  94.94349145889282\n"
     ]
    }
   ],
   "source": [
    "mapeTrain4 = mape(trainY_inverse, trainPredict4)\n",
    "print('MAPE Train: ', mapeTrain4.numpy())\n",
    "print('Akurasi Train: ', 100 - (mapeTrain4.numpy()))\n",
    "\n",
    "mape4 = mape(testY_inverse, testPredict4)\n",
    "print('MAPE Test: ', mape4.numpy())\n",
    "print('Akurasi Test: ', 100 - (mape4.numpy()))"
   ]
  },
  {
   "attachments": {},
   "cell_type": "markdown",
   "metadata": {},
   "source": [
    "### Model 5"
   ]
  },
  {
   "cell_type": "code",
   "execution_count": 31,
   "metadata": {},
   "outputs": [
    {
     "name": "stdout",
     "output_type": "stream",
     "text": [
      "1/1 [==============================] - 0s 117ms/step - loss: 0.1689 - mean_absolute_error: 0.3463\n"
     ]
    },
    {
     "data": {
      "text/plain": [
       "[0.16893990337848663, 0.34625449776649475]"
      ]
     },
     "execution_count": 31,
     "metadata": {},
     "output_type": "execute_result"
    }
   ],
   "source": [
    "model5 = tf.keras.models.Sequential([\n",
    "    tf.keras.layers.Dense(12, input_dim=seq_size,\n",
    "                          kernel_initializer=RandomUniform(minval=-1, maxval=1), bias_initializer=RandomUniform(minval=-1, maxval=1)),\n",
    "    tf.keras.layers.Dense(10, activation='sigmoid',\n",
    "                          kernel_initializer=RandomUniform(minval=-1, maxval=1), bias_initializer=RandomUniform(minval=-1, maxval=1)),\n",
    "    tf.keras.layers.Dense(1, activation='sigmoid',\n",
    "                          kernel_initializer=RandomUniform(minval=-1, maxval=1), bias_initializer=RandomUniform(minval=-1, maxval=1))\n",
    "])\n",
    "\n",
    "model5.compile(loss='mse',\n",
    "               optimizer=tf.keras.optimizers.Adam(0.01),\n",
    "               metrics=[tf.keras.metrics.MeanAbsoluteError()])\n",
    "\n",
    "model5.fit(trainX, trainY, validation_data=(\n",
    "    testX, testY), verbose=0, epochs=250, batch_size=6)\n",
    "\n",
    "model5.evaluate(testX, testY)\n"
   ]
  },
  {
   "cell_type": "code",
   "execution_count": 32,
   "metadata": {},
   "outputs": [
    {
     "name": "stdout",
     "output_type": "stream",
     "text": [
      "WARNING:tensorflow:5 out of the last 13 calls to <function Model.make_predict_function.<locals>.predict_function at 0x000002CB3397A050> triggered tf.function retracing. Tracing is expensive and the excessive number of tracings could be due to (1) creating @tf.function repeatedly in a loop, (2) passing tensors with different shapes, (3) passing Python objects instead of tensors. For (1), please define your @tf.function outside of the loop. For (2), @tf.function has reduce_retracing=True option that can avoid unnecessary retracing. For (3), please refer to https://www.tensorflow.org/guide/function#controlling_retracing and https://www.tensorflow.org/api_docs/python/tf/function for  more details.\n",
      "2/2 [==============================] - 0s 2ms/step\n",
      "1/1 [==============================] - 0s 24ms/step\n",
      "Model 5\n",
      "Train score: 327.41\n",
      "Test score: 1061.26\n"
     ]
    }
   ],
   "source": [
    "trainPredict5 = model5.predict(trainX)\n",
    "testPredict5 = model5.predict(testX)\n",
    "\n",
    "trainPredict5 = scaler.inverse_transform(trainPredict5)\n",
    "trainY_inverse = scaler.inverse_transform([trainY])\n",
    "testPredict5 = scaler.inverse_transform(testPredict5)\n",
    "testY_inverse = scaler.inverse_transform([testY])\n",
    "\n",
    "print('Model 5')\n",
    "\n",
    "trainScore5 = math.sqrt(mse(trainY_inverse[0], trainPredict5[:,0]))\n",
    "print('Train score: %.2f' % (trainScore5))\n",
    "\n",
    "testScore5 = math.sqrt(mse(testY_inverse[0], testPredict5[:,0]))\n",
    "print('Test score: %.2f' % (testScore5))"
   ]
  },
  {
   "cell_type": "code",
   "execution_count": 33,
   "metadata": {},
   "outputs": [
    {
     "name": "stdout",
     "output_type": "stream",
     "text": [
      "MAPE Train:  5.236097\n",
      "Akurasi Train:  94.76390314102173\n",
      "MAPE Test:  6.083945\n",
      "Akurasi Test:  93.91605520248413\n"
     ]
    }
   ],
   "source": [
    "mapeTrain5 = mape(trainY_inverse, trainPredict5)\n",
    "print('MAPE Train: ', mapeTrain5.numpy())\n",
    "print('Akurasi Train: ', 100 - (mapeTrain5.numpy()))\n",
    "\n",
    "mape5 = mape(testY_inverse, testPredict5)\n",
    "print('MAPE Test: ', mape5.numpy())\n",
    "print('Akurasi Test: ', 100 - (mape5.numpy()))"
   ]
  },
  {
   "attachments": {},
   "cell_type": "markdown",
   "metadata": {},
   "source": [
    "### Model 6"
   ]
  },
  {
   "cell_type": "code",
   "execution_count": 34,
   "metadata": {},
   "outputs": [
    {
     "name": "stdout",
     "output_type": "stream",
     "text": [
      "1/1 [==============================] - 0s 117ms/step - loss: 0.1039 - mean_absolute_error: 0.2837\n"
     ]
    },
    {
     "data": {
      "text/plain": [
       "[0.103855200111866, 0.2837292551994324]"
      ]
     },
     "execution_count": 34,
     "metadata": {},
     "output_type": "execute_result"
    }
   ],
   "source": [
    "model6 = tf.keras.models.Sequential([\n",
    "    tf.keras.layers.Dense(12, input_dim=seq_size,\n",
    "                          kernel_initializer=RandomUniform(minval=-1, maxval=1), bias_initializer=RandomUniform(minval=-1, maxval=1)),\n",
    "    tf.keras.layers.Dense(10, activation='sigmoid',\n",
    "                          kernel_initializer=RandomUniform(minval=-1, maxval=1), bias_initializer=RandomUniform(minval=-1, maxval=1)),\n",
    "    tf.keras.layers.Dense(1, activation='sigmoid',\n",
    "                          kernel_initializer=RandomUniform(minval=-1, maxval=1), bias_initializer=RandomUniform(minval=-1, maxval=1))\n",
    "])\n",
    "\n",
    "model6.compile(loss='mse',\n",
    "               optimizer=tf.keras.optimizers.Adam(0.01),\n",
    "               metrics=[tf.keras.metrics.MeanAbsoluteError()])\n",
    "\n",
    "model6.fit(trainX, trainY, validation_data=(\n",
    "    testX, testY), verbose=0, epochs=300, batch_size=6)\n",
    "\n",
    "model6.evaluate(testX, testY)\n"
   ]
  },
  {
   "cell_type": "code",
   "execution_count": 35,
   "metadata": {},
   "outputs": [
    {
     "name": "stdout",
     "output_type": "stream",
     "text": [
      "WARNING:tensorflow:5 out of the last 13 calls to <function Model.make_predict_function.<locals>.predict_function at 0x000002CB35BC80D0> triggered tf.function retracing. Tracing is expensive and the excessive number of tracings could be due to (1) creating @tf.function repeatedly in a loop, (2) passing tensors with different shapes, (3) passing Python objects instead of tensors. For (1), please define your @tf.function outside of the loop. For (2), @tf.function has reduce_retracing=True option that can avoid unnecessary retracing. For (3), please refer to https://www.tensorflow.org/guide/function#controlling_retracing and https://www.tensorflow.org/api_docs/python/tf/function for  more details.\n",
      "2/2 [==============================] - 0s 3ms/step\n",
      "1/1 [==============================] - 0s 24ms/step\n",
      "Model 6\n",
      "Train score: 318.29\n",
      "Test score: 832.09\n"
     ]
    }
   ],
   "source": [
    "trainPredict6 = model6.predict(trainX)\n",
    "testPredict6 = model6.predict(testX)\n",
    "\n",
    "trainPredict6 = scaler.inverse_transform(trainPredict6)\n",
    "trainY_inverse = scaler.inverse_transform([trainY])\n",
    "testPredict6 = scaler.inverse_transform(testPredict6)\n",
    "testY_inverse = scaler.inverse_transform([testY])\n",
    "\n",
    "print('Model 6')\n",
    "\n",
    "trainScore6 = math.sqrt(mse(trainY_inverse[0], trainPredict6[:,0]))\n",
    "print('Train score: %.2f' % (trainScore6))\n",
    "\n",
    "testScore6 = math.sqrt(mse(testY_inverse[0], testPredict6[:,0]))\n",
    "print('Test score: %.2f' % (testScore6))"
   ]
  },
  {
   "cell_type": "code",
   "execution_count": 36,
   "metadata": {},
   "outputs": [
    {
     "name": "stdout",
     "output_type": "stream",
     "text": [
      "MAPE Train:  5.24764\n",
      "Akurasi Train:  94.75235986709595\n",
      "MAPE Test:  5.513266\n",
      "Akurasi Test:  94.48673391342163\n"
     ]
    }
   ],
   "source": [
    "mapeTrain6 = mape(trainY_inverse, trainPredict6)\n",
    "print('MAPE Train: ', mapeTrain6.numpy())\n",
    "print('Akurasi Train: ', 100 - (mapeTrain6.numpy()))\n",
    "\n",
    "mape6 = mape(testY_inverse, testPredict6)\n",
    "print('MAPE Test: ', mape6.numpy())\n",
    "print('Akurasi Test: ', 100 - (mape6.numpy()))"
   ]
  },
  {
   "attachments": {},
   "cell_type": "markdown",
   "metadata": {},
   "source": [
    "### Model 7"
   ]
  },
  {
   "cell_type": "code",
   "execution_count": 37,
   "metadata": {},
   "outputs": [
    {
     "name": "stdout",
     "output_type": "stream",
     "text": [
      "1/1 [==============================] - 0s 30ms/step - loss: 0.0729 - mean_absolute_error: 0.2136\n"
     ]
    },
    {
     "data": {
      "text/plain": [
       "[0.07293014973402023, 0.21358270943164825]"
      ]
     },
     "execution_count": 37,
     "metadata": {},
     "output_type": "execute_result"
    }
   ],
   "source": [
    "model7 = tf.keras.models.Sequential([\n",
    "    tf.keras.layers.Dense(12, input_dim=seq_size,\n",
    "                          kernel_initializer=RandomUniform(minval=-1, maxval=1), bias_initializer=RandomUniform(minval=-1, maxval=1)),\n",
    "    tf.keras.layers.Dense(10, activation='sigmoid',\n",
    "                          kernel_initializer=RandomUniform(minval=-1, maxval=1), bias_initializer=RandomUniform(minval=-1, maxval=1)),\n",
    "    tf.keras.layers.Dense(1, activation='sigmoid',\n",
    "                          kernel_initializer=RandomUniform(minval=-1, maxval=1), bias_initializer=RandomUniform(minval=-1, maxval=1))\n",
    "])\n",
    "\n",
    "model7.compile(loss='mse',\n",
    "               optimizer=tf.keras.optimizers.Adam(0.01),\n",
    "               metrics=[tf.keras.metrics.MeanAbsoluteError()])\n",
    "\n",
    "model7.fit(trainX, trainY, validation_data=(\n",
    "    testX, testY), verbose=0, epochs=50, batch_size=8)\n",
    "\n",
    "model7.evaluate(testX, testY)\n"
   ]
  },
  {
   "cell_type": "code",
   "execution_count": 38,
   "metadata": {},
   "outputs": [
    {
     "name": "stdout",
     "output_type": "stream",
     "text": [
      "2/2 [==============================] - 0s 4ms/step\n",
      "1/1 [==============================] - 0s 24ms/step\n",
      "Model 7\n",
      "Train score: 611.76\n",
      "Test score: 697.28\n"
     ]
    }
   ],
   "source": [
    "trainPredict7 = model7.predict(trainX)\n",
    "testPredict7 = model7.predict(testX)\n",
    "\n",
    "trainPredict7 = scaler.inverse_transform(trainPredict7)\n",
    "trainY_inverse = scaler.inverse_transform([trainY])\n",
    "testPredict7 = scaler.inverse_transform(testPredict7)\n",
    "testY_inverse = scaler.inverse_transform([testY])\n",
    "\n",
    "print('Model 7')\n",
    "\n",
    "trainScore7 = math.sqrt(mse(trainY_inverse[0], trainPredict7[:,0]))\n",
    "print('Train score: %.2f' % (trainScore7))\n",
    "\n",
    "testScore7 = math.sqrt(mse(testY_inverse[0], testPredict7[:,0]))\n",
    "print('Test score: %.2f' % (testScore7))"
   ]
  },
  {
   "cell_type": "code",
   "execution_count": 39,
   "metadata": {},
   "outputs": [
    {
     "name": "stdout",
     "output_type": "stream",
     "text": [
      "MAPE Train:  4.515307\n",
      "Akurasi Train:  95.48469305038452\n",
      "MAPE Test:  4.0757556\n",
      "Akurasi Test:  95.92424440383911\n"
     ]
    }
   ],
   "source": [
    "mapeTrain7 = mape(trainY_inverse, trainPredict7)\n",
    "print('MAPE Train: ', mapeTrain7.numpy())\n",
    "print('Akurasi Train: ', 100 - (mapeTrain7.numpy()))\n",
    "\n",
    "mape7 = mape(testY_inverse, testPredict7)\n",
    "print('MAPE Test: ', mape7.numpy())\n",
    "print('Akurasi Test: ', 100 - (mape7.numpy()))"
   ]
  },
  {
   "attachments": {},
   "cell_type": "markdown",
   "metadata": {},
   "source": [
    "### Model 8"
   ]
  },
  {
   "cell_type": "code",
   "execution_count": 40,
   "metadata": {},
   "outputs": [
    {
     "name": "stdout",
     "output_type": "stream",
     "text": [
      "1/1 [==============================] - 0s 26ms/step - loss: 0.0826 - mean_absolute_error: 0.2375\n"
     ]
    },
    {
     "data": {
      "text/plain": [
       "[0.08260606974363327, 0.23751623928546906]"
      ]
     },
     "execution_count": 40,
     "metadata": {},
     "output_type": "execute_result"
    }
   ],
   "source": [
    "model8 = tf.keras.models.Sequential([\n",
    "    tf.keras.layers.Dense(12, input_dim=seq_size,\n",
    "                          kernel_initializer=RandomUniform(minval=-1, maxval=1), bias_initializer=RandomUniform(minval=-1, maxval=1)),\n",
    "    tf.keras.layers.Dense(10, activation='sigmoid',\n",
    "                          kernel_initializer=RandomUniform(minval=-1, maxval=1), bias_initializer=RandomUniform(minval=-1, maxval=1)),\n",
    "    tf.keras.layers.Dense(1, activation='sigmoid',\n",
    "                          kernel_initializer=RandomUniform(minval=-1, maxval=1), bias_initializer=RandomUniform(minval=-1, maxval=1))\n",
    "])\n",
    "\n",
    "model8.compile(loss='mse',\n",
    "               optimizer=tf.keras.optimizers.Adam(0.01),\n",
    "               metrics=[tf.keras.metrics.MeanAbsoluteError()])\n",
    "\n",
    "model8.fit(trainX, trainY, validation_data=(\n",
    "    testX, testY), verbose=0, epochs=100, batch_size=8)\n",
    "\n",
    "model8.evaluate(testX, testY)\n"
   ]
  },
  {
   "cell_type": "code",
   "execution_count": 41,
   "metadata": {},
   "outputs": [
    {
     "name": "stdout",
     "output_type": "stream",
     "text": [
      "2/2 [==============================] - 0s 3ms/step\n"
     ]
    },
    {
     "name": "stdout",
     "output_type": "stream",
     "text": [
      "1/1 [==============================] - 0s 29ms/step\n",
      "Model 8\n",
      "Train score: 573.60\n",
      "Test score: 742.10\n"
     ]
    }
   ],
   "source": [
    "trainPredict8 = model8.predict(trainX)\n",
    "testPredict8 = model8.predict(testX)\n",
    "\n",
    "trainPredict8 = scaler.inverse_transform(trainPredict8)\n",
    "trainY_inverse = scaler.inverse_transform([trainY])\n",
    "testPredict8 = scaler.inverse_transform(testPredict8)\n",
    "testY_inverse = scaler.inverse_transform([testY])\n",
    "\n",
    "print('Model 8')\n",
    "\n",
    "trainScore8 = math.sqrt(mse(trainY_inverse[0], trainPredict8[:,0]))\n",
    "print('Train score: %.2f' % (trainScore8))\n",
    "\n",
    "testScore8 = math.sqrt(mse(testY_inverse[0], testPredict8[:,0]))\n",
    "print('Test score: %.2f' % (testScore8))"
   ]
  },
  {
   "cell_type": "code",
   "execution_count": 42,
   "metadata": {},
   "outputs": [
    {
     "name": "stdout",
     "output_type": "stream",
     "text": [
      "MAPE Train:  4.5389266\n",
      "Akurasi Train:  95.46107339859009\n",
      "MAPE Test:  4.293254\n",
      "Akurasi Test:  95.7067461013794\n"
     ]
    }
   ],
   "source": [
    "mapeTrain8 = mape(trainY_inverse, trainPredict8)\n",
    "print('MAPE Train: ', mapeTrain8.numpy())\n",
    "print('Akurasi Train: ', 100 - (mapeTrain8.numpy()))\n",
    "\n",
    "mape8 = mape(testY_inverse, testPredict8)\n",
    "print('MAPE Test: ', mape8.numpy())\n",
    "print('Akurasi Test: ', 100 - (mape8.numpy()))"
   ]
  },
  {
   "attachments": {},
   "cell_type": "markdown",
   "metadata": {},
   "source": [
    "### Model 9"
   ]
  },
  {
   "cell_type": "code",
   "execution_count": 43,
   "metadata": {},
   "outputs": [
    {
     "name": "stdout",
     "output_type": "stream",
     "text": [
      "1/1 [==============================] - 0s 26ms/step - loss: 0.1107 - mean_absolute_error: 0.2779\n"
     ]
    },
    {
     "data": {
      "text/plain": [
       "[0.11065280437469482, 0.2778979241847992]"
      ]
     },
     "execution_count": 43,
     "metadata": {},
     "output_type": "execute_result"
    }
   ],
   "source": [
    "model9 = tf.keras.models.Sequential([\n",
    "    tf.keras.layers.Dense(12, input_dim=seq_size,\n",
    "                          kernel_initializer=RandomUniform(minval=-1, maxval=1), bias_initializer=RandomUniform(minval=-1, maxval=1)),\n",
    "    tf.keras.layers.Dense(10, activation='sigmoid',\n",
    "                          kernel_initializer=RandomUniform(minval=-1, maxval=1), bias_initializer=RandomUniform(minval=-1, maxval=1)),\n",
    "    tf.keras.layers.Dense(1, activation='sigmoid',\n",
    "                          kernel_initializer=RandomUniform(minval=-1, maxval=1), bias_initializer=RandomUniform(minval=-1, maxval=1))\n",
    "])\n",
    "\n",
    "model9.compile(loss='mse',\n",
    "               optimizer=tf.keras.optimizers.Adam(0.01),\n",
    "               metrics=[tf.keras.metrics.MeanAbsoluteError()])\n",
    "\n",
    "model9.fit(trainX, trainY, validation_data=(\n",
    "    testX, testY), verbose=0, epochs=150, batch_size=8)\n",
    "\n",
    "model9.evaluate(testX, testY)\n"
   ]
  },
  {
   "cell_type": "code",
   "execution_count": 44,
   "metadata": {},
   "outputs": [
    {
     "name": "stdout",
     "output_type": "stream",
     "text": [
      "2/2 [==============================] - 0s 4ms/step\n",
      "1/1 [==============================] - 0s 23ms/step\n",
      "Model 9\n",
      "Train score: 501.07\n",
      "Test score: 858.89\n"
     ]
    }
   ],
   "source": [
    "trainPredict9 = model9.predict(trainX)\n",
    "testPredict9 = model9.predict(testX)\n",
    "\n",
    "trainPredict9 = scaler.inverse_transform(trainPredict9)\n",
    "trainY_inverse = scaler.inverse_transform([trainY])\n",
    "testPredict9 = scaler.inverse_transform(testPredict9)\n",
    "testY_inverse = scaler.inverse_transform([testY])\n",
    "\n",
    "print('Model 9')\n",
    "\n",
    "trainScore9 = math.sqrt(mse(trainY_inverse[0], trainPredict9[:,0]))\n",
    "print('Train score: %.2f' % (trainScore9))\n",
    "\n",
    "testScore9 = math.sqrt(mse(testY_inverse[0], testPredict9[:,0]))\n",
    "print('Test score: %.2f' % (testScore9))"
   ]
  },
  {
   "cell_type": "code",
   "execution_count": 45,
   "metadata": {},
   "outputs": [
    {
     "name": "stdout",
     "output_type": "stream",
     "text": [
      "MAPE Train:  4.70413\n",
      "Akurasi Train:  95.29586982727051\n",
      "MAPE Test:  4.8682303\n",
      "Akurasi Test:  95.13176965713501\n"
     ]
    }
   ],
   "source": [
    "mapeTrain9 = mape(trainY_inverse, trainPredict9)\n",
    "print('MAPE Train: ', mapeTrain9.numpy())\n",
    "print('Akurasi Train: ', 100 - (mapeTrain9.numpy()))\n",
    "\n",
    "mape9 = mape(testY_inverse, testPredict9)\n",
    "print('MAPE Test: ', mape9.numpy())\n",
    "print('Akurasi Test: ', 100 - (mape9.numpy()))"
   ]
  },
  {
   "attachments": {},
   "cell_type": "markdown",
   "metadata": {},
   "source": [
    "### Model 10"
   ]
  },
  {
   "cell_type": "code",
   "execution_count": 46,
   "metadata": {},
   "outputs": [
    {
     "name": "stdout",
     "output_type": "stream",
     "text": [
      "1/1 [==============================] - 0s 25ms/step - loss: 0.0857 - mean_absolute_error: 0.2389\n"
     ]
    },
    {
     "data": {
      "text/plain": [
       "[0.0857316255569458, 0.23893477022647858]"
      ]
     },
     "execution_count": 46,
     "metadata": {},
     "output_type": "execute_result"
    }
   ],
   "source": [
    "model10 = tf.keras.models.Sequential([\n",
    "    tf.keras.layers.Dense(12, input_dim=seq_size,\n",
    "                          kernel_initializer=RandomUniform(minval=-1, maxval=1), bias_initializer=RandomUniform(minval=-1, maxval=1)),\n",
    "    tf.keras.layers.Dense(10, activation='sigmoid',\n",
    "                          kernel_initializer=RandomUniform(minval=-1, maxval=1), bias_initializer=RandomUniform(minval=-1, maxval=1)),\n",
    "    tf.keras.layers.Dense(1, activation='sigmoid',\n",
    "                          kernel_initializer=RandomUniform(minval=-1, maxval=1), bias_initializer=RandomUniform(minval=-1, maxval=1))\n",
    "])\n",
    "\n",
    "model10.compile(loss='mse',\n",
    "               optimizer=tf.keras.optimizers.Adam(0.01),\n",
    "               metrics=[tf.keras.metrics.MeanAbsoluteError()])\n",
    "\n",
    "model10.fit(trainX, trainY, validation_data=(\n",
    "    testX, testY), verbose=0, epochs=200, batch_size=8)\n",
    "\n",
    "model10.evaluate(testX, testY)\n"
   ]
  },
  {
   "cell_type": "code",
   "execution_count": 47,
   "metadata": {},
   "outputs": [
    {
     "name": "stdout",
     "output_type": "stream",
     "text": [
      "2/2 [==============================] - 0s 3ms/step\n",
      "1/1 [==============================] - 0s 23ms/step\n",
      "Model 10\n",
      "Train score: 424.08\n",
      "Test score: 756.01\n"
     ]
    }
   ],
   "source": [
    "trainPredict10 = model10.predict(trainX)\n",
    "testPredict10 = model10.predict(testX)\n",
    "\n",
    "trainPredict10 = scaler.inverse_transform(trainPredict10)\n",
    "trainY_inverse = scaler.inverse_transform([trainY])\n",
    "testPredict10 = scaler.inverse_transform(testPredict10)\n",
    "testY_inverse = scaler.inverse_transform([testY])\n",
    "\n",
    "print('Model 10')\n",
    "\n",
    "trainScore10 = math.sqrt(mse(trainY_inverse[0], trainPredict10[:,0]))\n",
    "print('Train score: %.2f' % (trainScore10))\n",
    "\n",
    "testScore10 = math.sqrt(mse(testY_inverse[0], testPredict10[:,0]))\n",
    "print('Test score: %.2f' % (testScore10))"
   ]
  },
  {
   "cell_type": "code",
   "execution_count": 48,
   "metadata": {},
   "outputs": [
    {
     "name": "stdout",
     "output_type": "stream",
     "text": [
      "MAPE Train:  4.824005\n",
      "Akurasi Train:  95.17599487304688\n",
      "MAPE Test:  4.49778\n",
      "Akurasi Test:  95.5022201538086\n"
     ]
    }
   ],
   "source": [
    "mapeTrain10 = mape(trainY_inverse, trainPredict10)\n",
    "print('MAPE Train: ', mapeTrain10.numpy())\n",
    "print('Akurasi Train: ', 100 - (mapeTrain10.numpy()))\n",
    "\n",
    "mape10 = mape(testY_inverse, testPredict10)\n",
    "print('MAPE Test: ', mape10.numpy())\n",
    "print('Akurasi Test: ', 100 - (mape10.numpy()))"
   ]
  },
  {
   "attachments": {},
   "cell_type": "markdown",
   "metadata": {},
   "source": [
    "### Model 11"
   ]
  },
  {
   "cell_type": "code",
   "execution_count": 49,
   "metadata": {},
   "outputs": [
    {
     "name": "stdout",
     "output_type": "stream",
     "text": [
      "1/1 [==============================] - 0s 26ms/step - loss: 0.0838 - mean_absolute_error: 0.2467\n"
     ]
    },
    {
     "data": {
      "text/plain": [
       "[0.08378145843744278, 0.24669523537158966]"
      ]
     },
     "execution_count": 49,
     "metadata": {},
     "output_type": "execute_result"
    }
   ],
   "source": [
    "model11 = tf.keras.models.Sequential([\n",
    "    tf.keras.layers.Dense(12, input_dim=seq_size,\n",
    "                          kernel_initializer=RandomUniform(minval=-1, maxval=1), bias_initializer=RandomUniform(minval=-1, maxval=1)),\n",
    "    tf.keras.layers.Dense(10, activation='sigmoid',\n",
    "                          kernel_initializer=RandomUniform(minval=-1, maxval=1), bias_initializer=RandomUniform(minval=-1, maxval=1)),\n",
    "    tf.keras.layers.Dense(1, activation='sigmoid',\n",
    "                          kernel_initializer=RandomUniform(minval=-1, maxval=1), bias_initializer=RandomUniform(minval=-1, maxval=1))\n",
    "])\n",
    "\n",
    "model11.compile(loss='mse',\n",
    "               optimizer=tf.keras.optimizers.Adam(0.01),\n",
    "               metrics=[tf.keras.metrics.MeanAbsoluteError()])\n",
    "\n",
    "model11.fit(trainX, trainY, validation_data=(\n",
    "    testX, testY), verbose=0, epochs=250, batch_size=8)\n",
    "\n",
    "model11.evaluate(testX, testY)\n"
   ]
  },
  {
   "cell_type": "code",
   "execution_count": 50,
   "metadata": {},
   "outputs": [
    {
     "name": "stdout",
     "output_type": "stream",
     "text": [
      "2/2 [==============================] - 0s 3ms/step\n",
      "1/1 [==============================] - 0s 23ms/step\n",
      "Model 11\n",
      "Train score: 359.52\n",
      "Test score: 747.36\n"
     ]
    }
   ],
   "source": [
    "trainPredict11 = model11.predict(trainX)\n",
    "testPredict11 = model11.predict(testX)\n",
    "\n",
    "trainPredict11 = scaler.inverse_transform(trainPredict11)\n",
    "trainY_inverse = scaler.inverse_transform([trainY])\n",
    "testPredict11 = scaler.inverse_transform(testPredict11)\n",
    "testY_inverse = scaler.inverse_transform([testY])\n",
    "\n",
    "print('Model 11')\n",
    "\n",
    "trainScore11 = math.sqrt(mse(trainY_inverse[0], trainPredict11[:,0]))\n",
    "print('Train score: %.2f' % (trainScore11))\n",
    "\n",
    "testScore11 = math.sqrt(mse(testY_inverse[0], testPredict11[:,0]))\n",
    "print('Test score: %.2f' % (testScore11))"
   ]
  },
  {
   "cell_type": "code",
   "execution_count": 51,
   "metadata": {},
   "outputs": [
    {
     "name": "stdout",
     "output_type": "stream",
     "text": [
      "MAPE Train:  5.106915\n",
      "Akurasi Train:  94.89308500289917\n",
      "MAPE Test:  5.1852703\n",
      "Akurasi Test:  94.81472969055176\n"
     ]
    }
   ],
   "source": [
    "mapeTrain11 = mape(trainY_inverse, trainPredict11)\n",
    "print('MAPE Train: ', mapeTrain11.numpy())\n",
    "print('Akurasi Train: ', 100 - (mapeTrain11.numpy()))\n",
    "\n",
    "mape11 = mape(testY_inverse, testPredict11)\n",
    "print('MAPE Test: ', mape11.numpy())\n",
    "print('Akurasi Test: ', 100 - (mape11.numpy()))"
   ]
  },
  {
   "attachments": {},
   "cell_type": "markdown",
   "metadata": {},
   "source": [
    "### Model 12"
   ]
  },
  {
   "cell_type": "code",
   "execution_count": 52,
   "metadata": {},
   "outputs": [
    {
     "name": "stdout",
     "output_type": "stream",
     "text": [
      "1/1 [==============================] - 0s 26ms/step - loss: 0.1058 - mean_absolute_error: 0.2540\n"
     ]
    },
    {
     "data": {
      "text/plain": [
       "[0.10576476901769638, 0.2540247142314911]"
      ]
     },
     "execution_count": 52,
     "metadata": {},
     "output_type": "execute_result"
    }
   ],
   "source": [
    "model12 = tf.keras.models.Sequential([\n",
    "    tf.keras.layers.Dense(12, input_dim=seq_size,\n",
    "                          kernel_initializer=RandomUniform(minval=-1, maxval=1), bias_initializer=RandomUniform(minval=-1, maxval=1)),\n",
    "    tf.keras.layers.Dense(10, activation='sigmoid',\n",
    "                          kernel_initializer=RandomUniform(minval=-1, maxval=1), bias_initializer=RandomUniform(minval=-1, maxval=1)),\n",
    "    tf.keras.layers.Dense(1, activation='sigmoid',\n",
    "                          kernel_initializer=RandomUniform(minval=-1, maxval=1), bias_initializer=RandomUniform(minval=-1, maxval=1))\n",
    "])\n",
    "\n",
    "model12.compile(loss='mse',\n",
    "               optimizer=tf.keras.optimizers.Adam(0.01),\n",
    "               metrics=[tf.keras.metrics.MeanAbsoluteError()])\n",
    "\n",
    "model12.fit(trainX, trainY, validation_data=(\n",
    "    testX, testY), verbose=0, epochs=300, batch_size=8)\n",
    "\n",
    "model12.evaluate(testX, testY)\n"
   ]
  },
  {
   "cell_type": "code",
   "execution_count": 53,
   "metadata": {},
   "outputs": [
    {
     "name": "stdout",
     "output_type": "stream",
     "text": [
      "2/2 [==============================] - 0s 4ms/step\n",
      "1/1 [==============================] - 0s 23ms/step\n",
      "Model 12\n",
      "Train score: 287.45\n",
      "Test score: 839.70\n"
     ]
    }
   ],
   "source": [
    "trainPredict12 = model12.predict(trainX)\n",
    "testPredict12 = model12.predict(testX)\n",
    "\n",
    "trainPredict12 = scaler.inverse_transform(trainPredict12)\n",
    "trainY_inverse = scaler.inverse_transform([trainY])\n",
    "testPredict12 = scaler.inverse_transform(testPredict12)\n",
    "testY_inverse = scaler.inverse_transform([testY])\n",
    "\n",
    "print('Model 12')\n",
    "\n",
    "trainScore12 = math.sqrt(mse(trainY_inverse[0], trainPredict12[:,0]))\n",
    "print('Train score: %.2f' % (trainScore12))\n",
    "\n",
    "testScore12 = math.sqrt(mse(testY_inverse[0], testPredict12[:,0]))\n",
    "print('Test score: %.2f' % (testScore12))"
   ]
  },
  {
   "cell_type": "code",
   "execution_count": 54,
   "metadata": {},
   "outputs": [
    {
     "name": "stdout",
     "output_type": "stream",
     "text": [
      "MAPE Train:  5.279166\n",
      "Akurasi Train:  94.72083377838135\n",
      "MAPE :  5.0911765\n",
      "Akurasi :  94.90882349014282\n"
     ]
    }
   ],
   "source": [
    "mapeTrain12 = mape(trainY_inverse, trainPredict12)\n",
    "print('MAPE Train: ', mapeTrain12.numpy())\n",
    "print('Akurasi Train: ', 100 - (mapeTrain12.numpy()))\n",
    "\n",
    "mape12 = mape(testY_inverse, testPredict12)\n",
    "print('MAPE : ', mape12.numpy())\n",
    "print('Akurasi : ', 100 - (mape12.numpy()))"
   ]
  },
  {
   "attachments": {},
   "cell_type": "markdown",
   "metadata": {},
   "source": [
    "### Model 13"
   ]
  },
  {
   "cell_type": "code",
   "execution_count": 19,
   "metadata": {},
   "outputs": [
    {
     "name": "stdout",
     "output_type": "stream",
     "text": [
      "1/1 [==============================] - 0s 135ms/step - loss: 0.0739 - mean_absolute_error: 0.2109\n"
     ]
    },
    {
     "data": {
      "text/plain": [
       "[0.0739111676812172, 0.2108747959136963]"
      ]
     },
     "execution_count": 19,
     "metadata": {},
     "output_type": "execute_result"
    }
   ],
   "source": [
    "model13 = tf.keras.models.Sequential([\n",
    "    tf.keras.layers.Dense(12, input_dim=seq_size,\n",
    "                          kernel_initializer=RandomUniform(minval=-1, maxval=1), bias_initializer=RandomUniform(minval=-1, maxval=1)),\n",
    "    tf.keras.layers.Dense(10, activation='sigmoid',\n",
    "                          kernel_initializer=RandomUniform(minval=-1, maxval=1), bias_initializer=RandomUniform(minval=-1, maxval=1)),\n",
    "    tf.keras.layers.Dense(1, activation='sigmoid',\n",
    "                          kernel_initializer=RandomUniform(minval=-1, maxval=1), bias_initializer=RandomUniform(minval=-1, maxval=1))\n",
    "])\n",
    "\n",
    "model13.compile(loss='mse',\n",
    "               optimizer=tf.keras.optimizers.Adam(0.01),\n",
    "               metrics=[tf.keras.metrics.MeanAbsoluteError()])\n",
    "\n",
    "model13.fit(trainX, trainY, validation_data=(\n",
    "    testX, testY), verbose=0, epochs=50, batch_size=12)\n",
    "\n",
    "model13.evaluate(testX, testY)\n"
   ]
  },
  {
   "cell_type": "code",
   "execution_count": 20,
   "metadata": {},
   "outputs": [
    {
     "name": "stdout",
     "output_type": "stream",
     "text": [
      "2/2 [==============================] - 0s 3ms/step\n",
      "1/1 [==============================] - 0s 26ms/step\n",
      "Model 13\n",
      "Train score: 614.74\n",
      "Test score: 701.96\n"
     ]
    }
   ],
   "source": [
    "trainPredict13 = model13.predict(trainX)\n",
    "testPredict13 = model13.predict(testX)\n",
    "\n",
    "trainPredict13 = scaler.inverse_transform(trainPredict13)\n",
    "trainY_inverse = scaler.inverse_transform([trainY])\n",
    "testPredict13 = scaler.inverse_transform(testPredict13)\n",
    "testY_inverse = scaler.inverse_transform([testY])\n",
    "\n",
    "print('Model 13')\n",
    "\n",
    "trainScore13 = math.sqrt(mse(trainY_inverse[0], trainPredict13[:,0]))\n",
    "print('Train score: %.2f' % (trainScore13))\n",
    "\n",
    "testScore13 = math.sqrt(mse(testY_inverse[0], testPredict13[:,0]))\n",
    "print('Test score: %.2f' % (testScore13))"
   ]
  },
  {
   "cell_type": "code",
   "execution_count": 21,
   "metadata": {},
   "outputs": [
    {
     "name": "stdout",
     "output_type": "stream",
     "text": [
      "MAPE Train:  4.452239\n",
      "Akurasi Train:  95.54776096343994\n",
      "MAPE Test:  4.000161\n",
      "Akurasi Test:  95.99983882904053\n"
     ]
    }
   ],
   "source": [
    "mapeTrain13 = mape(trainY_inverse, trainPredict13)\n",
    "print('MAPE Train: ', mapeTrain13.numpy())\n",
    "print('Akurasi Train: ', 100 - (mapeTrain13.numpy()))\n",
    "\n",
    "mape13 = mape(testY_inverse, testPredict13)\n",
    "print('MAPE Test: ', mape13.numpy())\n",
    "print('Akurasi Test: ', 100 - (mape13.numpy()))"
   ]
  },
  {
   "attachments": {},
   "cell_type": "markdown",
   "metadata": {},
   "source": [
    "### Model 14"
   ]
  },
  {
   "cell_type": "code",
   "execution_count": 58,
   "metadata": {},
   "outputs": [
    {
     "name": "stdout",
     "output_type": "stream",
     "text": [
      "1/1 [==============================] - 0s 126ms/step - loss: 0.0713 - mean_absolute_error: 0.2146\n"
     ]
    },
    {
     "data": {
      "text/plain": [
       "[0.07131829857826233, 0.21461136639118195]"
      ]
     },
     "execution_count": 58,
     "metadata": {},
     "output_type": "execute_result"
    }
   ],
   "source": [
    "model14 = tf.keras.models.Sequential([\n",
    "    tf.keras.layers.Dense(12, input_dim=seq_size,\n",
    "                          kernel_initializer=RandomUniform(minval=-1, maxval=1), bias_initializer=RandomUniform(minval=-1, maxval=1)),\n",
    "    tf.keras.layers.Dense(10, activation='sigmoid',\n",
    "                          kernel_initializer=RandomUniform(minval=-1, maxval=1), bias_initializer=RandomUniform(minval=-1, maxval=1)),\n",
    "    tf.keras.layers.Dense(1, activation='sigmoid',\n",
    "                          kernel_initializer=RandomUniform(minval=-1, maxval=1), bias_initializer=RandomUniform(minval=-1, maxval=1))\n",
    "])\n",
    "\n",
    "model14.compile(loss='mse',\n",
    "                optimizer=tf.keras.optimizers.Adam(0.01),\n",
    "                metrics=[tf.keras.metrics.MeanAbsoluteError()])\n",
    "\n",
    "model14.fit(trainX, trainY, validation_data=(\n",
    "    testX, testY), verbose=0, epochs=100, batch_size=12)\n",
    "\n",
    "model14.evaluate(testX, testY)\n"
   ]
  },
  {
   "cell_type": "code",
   "execution_count": 59,
   "metadata": {},
   "outputs": [
    {
     "name": "stdout",
     "output_type": "stream",
     "text": [
      "2/2 [==============================] - 0s 3ms/step\n",
      "1/1 [==============================] - 0s 24ms/step\n",
      "Model 14\n",
      "Train score: 602.68\n",
      "Test score: 689.54\n"
     ]
    }
   ],
   "source": [
    "trainPredict14 = model14.predict(trainX)\n",
    "testPredict14 = model14.predict(testX)\n",
    "\n",
    "trainPredict14 = scaler.inverse_transform(trainPredict14)\n",
    "trainY_inverse = scaler.inverse_transform([trainY])\n",
    "testPredict14 = scaler.inverse_transform(testPredict14)\n",
    "testY_inverse = scaler.inverse_transform([testY])\n",
    "\n",
    "print('Model 14')\n",
    "\n",
    "trainScore14 = math.sqrt(mse(trainY_inverse[0], trainPredict14[:,0]))\n",
    "print('Train score: %.2f' % (trainScore14))\n",
    "\n",
    "testScore14 = math.sqrt(mse(testY_inverse[0], testPredict14[:,0]))\n",
    "print('Test score: %.2f' % (testScore14))"
   ]
  },
  {
   "cell_type": "code",
   "execution_count": 60,
   "metadata": {},
   "outputs": [
    {
     "name": "stdout",
     "output_type": "stream",
     "text": [
      "MAPE Train:  4.601171\n",
      "Akurasi Train:  95.39882898330688\n",
      "MAPE Test:  4.1452594\n",
      "Akurasi Test:  95.85474061965942\n"
     ]
    }
   ],
   "source": [
    "mapeTrain14 = mape(trainY_inverse, trainPredict14)\n",
    "print('MAPE Train: ', mapeTrain14.numpy())\n",
    "print('Akurasi Train: ', 100 - (mapeTrain14.numpy()))\n",
    "\n",
    "mape14 = mape(testY_inverse, testPredict14)\n",
    "print('MAPE Test: ', mape14.numpy())\n",
    "print('Akurasi Test: ', 100 - (mape14.numpy()))"
   ]
  },
  {
   "attachments": {},
   "cell_type": "markdown",
   "metadata": {},
   "source": [
    "### Model 15"
   ]
  },
  {
   "cell_type": "code",
   "execution_count": 61,
   "metadata": {},
   "outputs": [
    {
     "name": "stdout",
     "output_type": "stream",
     "text": [
      "1/1 [==============================] - 0s 117ms/step - loss: 0.0876 - mean_absolute_error: 0.2352\n"
     ]
    },
    {
     "data": {
      "text/plain": [
       "[0.08760348707437515, 0.2351996898651123]"
      ]
     },
     "execution_count": 61,
     "metadata": {},
     "output_type": "execute_result"
    }
   ],
   "source": [
    "model15 = tf.keras.models.Sequential([\n",
    "    tf.keras.layers.Dense(12, input_dim=seq_size,\n",
    "                          kernel_initializer=RandomUniform(minval=-1, maxval=1), bias_initializer=RandomUniform(minval=-1, maxval=1)),\n",
    "    tf.keras.layers.Dense(10, activation='sigmoid',\n",
    "                          kernel_initializer=RandomUniform(minval=-1, maxval=1), bias_initializer=RandomUniform(minval=-1, maxval=1)),\n",
    "    tf.keras.layers.Dense(1, activation='sigmoid',\n",
    "                          kernel_initializer=RandomUniform(minval=-1, maxval=1), bias_initializer=RandomUniform(minval=-1, maxval=1))\n",
    "])\n",
    "\n",
    "model15.compile(loss='mse',\n",
    "               optimizer=tf.keras.optimizers.Adam(0.01),\n",
    "               metrics=[tf.keras.metrics.MeanAbsoluteError()])\n",
    "\n",
    "model15.fit(trainX, trainY, validation_data=(\n",
    "    testX, testY), verbose=0, epochs=150, batch_size=12)\n",
    "\n",
    "model15.evaluate(testX, testY)\n"
   ]
  },
  {
   "cell_type": "code",
   "execution_count": 62,
   "metadata": {},
   "outputs": [
    {
     "name": "stdout",
     "output_type": "stream",
     "text": [
      "2/2 [==============================] - 0s 2ms/step\n",
      "1/1 [==============================] - 0s 23ms/step\n",
      "Model 15\n",
      "Train score: 548.63\n",
      "Test score: 764.22\n"
     ]
    }
   ],
   "source": [
    "trainPredict15 = model15.predict(trainX)\n",
    "testPredict15 = model15.predict(testX)\n",
    "\n",
    "trainPredict15 = scaler.inverse_transform(trainPredict15)\n",
    "trainY_inverse = scaler.inverse_transform([trainY])\n",
    "testPredict15 = scaler.inverse_transform(testPredict15)\n",
    "testY_inverse = scaler.inverse_transform([testY])\n",
    "\n",
    "print('Model 15')\n",
    "\n",
    "trainScore15 = math.sqrt(mse(trainY_inverse[0], trainPredict15[:,0]))\n",
    "print('Train score: %.2f' % (trainScore15))\n",
    "\n",
    "testScore15 = math.sqrt(mse(testY_inverse[0], testPredict15[:,0]))\n",
    "print('Test score: %.2f' % (testScore15))"
   ]
  },
  {
   "cell_type": "code",
   "execution_count": 63,
   "metadata": {},
   "outputs": [
    {
     "name": "stdout",
     "output_type": "stream",
     "text": [
      "MAPE Train:  4.6465178\n",
      "Akurasi Train:  95.35348224639893\n",
      "MAPE Test:  4.3605137\n",
      "Akurasi Test:  95.63948631286621\n"
     ]
    }
   ],
   "source": [
    "mapeTrain15 = mape(trainY_inverse, trainPredict15)\n",
    "print('MAPE Train: ', mapeTrain15.numpy())\n",
    "print('Akurasi Train: ', 100 - (mapeTrain15.numpy()))\n",
    "\n",
    "mape15 = mape(testY_inverse, testPredict15)\n",
    "print('MAPE Test: ', mape15.numpy())\n",
    "print('Akurasi Test: ', 100 - (mape15.numpy()))"
   ]
  },
  {
   "attachments": {},
   "cell_type": "markdown",
   "metadata": {},
   "source": [
    "### Model 16"
   ]
  },
  {
   "cell_type": "code",
   "execution_count": 64,
   "metadata": {},
   "outputs": [
    {
     "name": "stdout",
     "output_type": "stream",
     "text": [
      "1/1 [==============================] - 0s 122ms/step - loss: 0.1159 - mean_absolute_error: 0.2664\n"
     ]
    },
    {
     "data": {
      "text/plain": [
       "[0.11591211706399918, 0.26637008786201477]"
      ]
     },
     "execution_count": 64,
     "metadata": {},
     "output_type": "execute_result"
    }
   ],
   "source": [
    "model16 = tf.keras.models.Sequential([\n",
    "    tf.keras.layers.Dense(12, input_dim=seq_size,\n",
    "                          kernel_initializer=RandomUniform(minval=-1, maxval=1), bias_initializer=RandomUniform(minval=-1, maxval=1)),\n",
    "    tf.keras.layers.Dense(10, activation='sigmoid',\n",
    "                          kernel_initializer=RandomUniform(minval=-1, maxval=1), bias_initializer=RandomUniform(minval=-1, maxval=1)),\n",
    "    tf.keras.layers.Dense(1, activation='sigmoid',\n",
    "                          kernel_initializer=RandomUniform(minval=-1, maxval=1), bias_initializer=RandomUniform(minval=-1, maxval=1))\n",
    "])\n",
    "\n",
    "model16.compile(loss='mse',\n",
    "               optimizer=tf.keras.optimizers.Adam(0.01),\n",
    "               metrics=[tf.keras.metrics.MeanAbsoluteError()])\n",
    "\n",
    "model16.fit(trainX, trainY, validation_data=(\n",
    "    testX, testY), verbose=0, epochs=200, batch_size=12)\n",
    "\n",
    "model16.evaluate(testX, testY)\n"
   ]
  },
  {
   "cell_type": "code",
   "execution_count": 65,
   "metadata": {},
   "outputs": [
    {
     "name": "stdout",
     "output_type": "stream",
     "text": [
      "2/2 [==============================] - 0s 3ms/step\n",
      "1/1 [==============================] - 0s 27ms/step\n",
      "Model 16\n",
      "Train score: 514.04\n",
      "Test score: 879.06\n"
     ]
    }
   ],
   "source": [
    "trainPredict16 = model16.predict(trainX)\n",
    "testPredict16 = model16.predict(testX)\n",
    "\n",
    "trainPredict16 = scaler.inverse_transform(trainPredict16)\n",
    "trainY_inverse = scaler.inverse_transform([trainY])\n",
    "testPredict16 = scaler.inverse_transform(testPredict16)\n",
    "testY_inverse = scaler.inverse_transform([testY])\n",
    "\n",
    "print('Model 16')\n",
    "\n",
    "trainScore16 = math.sqrt(mse(trainY_inverse[0], trainPredict16[:,0]))\n",
    "print('Train score: %.2f' % (trainScore16))\n",
    "\n",
    "testScore16 = math.sqrt(mse(testY_inverse[0], testPredict16[:,0]))\n",
    "print('Test score: %.2f' % (testScore16))"
   ]
  },
  {
   "cell_type": "code",
   "execution_count": 66,
   "metadata": {},
   "outputs": [
    {
     "name": "stdout",
     "output_type": "stream",
     "text": [
      "MAPE Train:  4.7358623\n",
      "Akurasi Train:  95.26413774490356\n",
      "MAPE Test:  5.1301537\n",
      "Akurasi Test:  94.86984634399414\n"
     ]
    }
   ],
   "source": [
    "mapeTrain16 = mape(trainY_inverse, trainPredict16)\n",
    "print('MAPE Train: ', mapeTrain16.numpy())\n",
    "print('Akurasi Train: ', 100 - (mapeTrain16.numpy()))\n",
    "\n",
    "mape16 = mape(testY_inverse, testPredict16)\n",
    "print('MAPE Test: ', mape16.numpy())\n",
    "print('Akurasi Test: ', 100 - (mape16.numpy()))"
   ]
  },
  {
   "attachments": {},
   "cell_type": "markdown",
   "metadata": {},
   "source": [
    "### Model 17"
   ]
  },
  {
   "cell_type": "code",
   "execution_count": 67,
   "metadata": {},
   "outputs": [
    {
     "name": "stdout",
     "output_type": "stream",
     "text": [
      "1/1 [==============================] - 0s 116ms/step - loss: 0.0923 - mean_absolute_error: 0.2353\n"
     ]
    },
    {
     "data": {
      "text/plain": [
       "[0.0923483669757843, 0.23532555997371674]"
      ]
     },
     "execution_count": 67,
     "metadata": {},
     "output_type": "execute_result"
    }
   ],
   "source": [
    "model17 = tf.keras.models.Sequential([\n",
    "    tf.keras.layers.Dense(12, input_dim=seq_size,\n",
    "                          kernel_initializer=RandomUniform(minval=-1, maxval=1), bias_initializer=RandomUniform(minval=-1, maxval=1)),\n",
    "    tf.keras.layers.Dense(10, activation='sigmoid',\n",
    "                          kernel_initializer=RandomUniform(minval=-1, maxval=1), bias_initializer=RandomUniform(minval=-1, maxval=1)),\n",
    "    tf.keras.layers.Dense(1, activation='sigmoid',\n",
    "                          kernel_initializer=RandomUniform(minval=-1, maxval=1), bias_initializer=RandomUniform(minval=-1, maxval=1))\n",
    "])\n",
    "\n",
    "model17.compile(loss='mse',\n",
    "               optimizer=tf.keras.optimizers.Adam(0.01),\n",
    "               metrics=[tf.keras.metrics.MeanAbsoluteError()])\n",
    "\n",
    "model17.fit(trainX, trainY, validation_data=(\n",
    "    testX, testY), verbose=0, epochs=150, batch_size=12)\n",
    "\n",
    "model17.evaluate(testX, testY)\n"
   ]
  },
  {
   "cell_type": "code",
   "execution_count": 68,
   "metadata": {},
   "outputs": [
    {
     "name": "stdout",
     "output_type": "stream",
     "text": [
      "2/2 [==============================] - 0s 3ms/step\n",
      "1/1 [==============================] - 0s 23ms/step\n",
      "Model 17\n",
      "Train score: 571.72\n",
      "Test score: 784.64\n"
     ]
    }
   ],
   "source": [
    "trainPredict17 = model17.predict(trainX)\n",
    "testPredict17 = model17.predict(testX)\n",
    "\n",
    "trainPredict17 = scaler.inverse_transform(trainPredict17)\n",
    "trainY_inverse = scaler.inverse_transform([trainY])\n",
    "testPredict17 = scaler.inverse_transform(testPredict17)\n",
    "testY_inverse = scaler.inverse_transform([testY])\n",
    "\n",
    "print('Model 17')\n",
    "\n",
    "trainScore17 = math.sqrt(mse(trainY_inverse[0], trainPredict17[:,0]))\n",
    "print('Train score: %.2f' % (trainScore17))\n",
    "\n",
    "testScore17 = math.sqrt(mse(testY_inverse[0], testPredict17[:,0]))\n",
    "print('Test score: %.2f' % (testScore17))"
   ]
  },
  {
   "cell_type": "code",
   "execution_count": 69,
   "metadata": {},
   "outputs": [
    {
     "name": "stdout",
     "output_type": "stream",
     "text": [
      "MAPE Train:  4.6355076\n",
      "Akurasi Train:  95.36449241638184\n",
      "MAPE Test:  4.425203\n",
      "Akurasi Test:  95.5747971534729\n"
     ]
    }
   ],
   "source": [
    "mapeTrain17 = mape(trainY_inverse, trainPredict17)\n",
    "print('MAPE Train: ', mapeTrain17.numpy())\n",
    "print('Akurasi Train: ', 100 - (mapeTrain17.numpy()))\n",
    "\n",
    "mape17 = mape(testY_inverse, testPredict17)\n",
    "print('MAPE Test: ', mape17.numpy())\n",
    "print('Akurasi Test: ', 100 - (mape17.numpy()))"
   ]
  },
  {
   "attachments": {},
   "cell_type": "markdown",
   "metadata": {},
   "source": [
    "### Model 18"
   ]
  },
  {
   "cell_type": "code",
   "execution_count": 70,
   "metadata": {},
   "outputs": [
    {
     "name": "stdout",
     "output_type": "stream",
     "text": [
      "1/1 [==============================] - 0s 116ms/step - loss: 0.1025 - mean_absolute_error: 0.2533\n"
     ]
    },
    {
     "data": {
      "text/plain": [
       "[0.10252243280410767, 0.253255695104599]"
      ]
     },
     "execution_count": 70,
     "metadata": {},
     "output_type": "execute_result"
    }
   ],
   "source": [
    "model18 = tf.keras.models.Sequential([\n",
    "    tf.keras.layers.Dense(12, input_dim=seq_size,\n",
    "                          kernel_initializer=RandomUniform(minval=-1, maxval=1), bias_initializer=RandomUniform(minval=-1, maxval=1)),\n",
    "    tf.keras.layers.Dense(10, activation='sigmoid',\n",
    "                          kernel_initializer=RandomUniform(minval=-1, maxval=1), bias_initializer=RandomUniform(minval=-1, maxval=1)),\n",
    "    tf.keras.layers.Dense(1, activation='sigmoid',\n",
    "                          kernel_initializer=RandomUniform(minval=-1, maxval=1), bias_initializer=RandomUniform(minval=-1, maxval=1))\n",
    "])\n",
    "\n",
    "model18.compile(loss='mse',\n",
    "               optimizer=tf.keras.optimizers.Adam(0.01),\n",
    "               metrics=[tf.keras.metrics.MeanAbsoluteError()])\n",
    "\n",
    "model18.fit(trainX, trainY, validation_data=(\n",
    "    testX, testY), verbose=0, epochs=300, batch_size=12)\n",
    "\n",
    "model18.evaluate(testX, testY)\n"
   ]
  },
  {
   "cell_type": "code",
   "execution_count": 71,
   "metadata": {},
   "outputs": [
    {
     "name": "stdout",
     "output_type": "stream",
     "text": [
      "2/2 [==============================] - 0s 3ms/step\n"
     ]
    },
    {
     "name": "stdout",
     "output_type": "stream",
     "text": [
      "1/1 [==============================] - 0s 101ms/step\n",
      "Model 18\n",
      "Train score: 459.03\n",
      "Test score: 826.73\n"
     ]
    }
   ],
   "source": [
    "trainPredict18 = model18.predict(trainX)\n",
    "testPredict18 = model18.predict(testX)\n",
    "\n",
    "trainPredict18 = scaler.inverse_transform(trainPredict18)\n",
    "trainY_inverse = scaler.inverse_transform([trainY])\n",
    "testPredict18 = scaler.inverse_transform(testPredict18)\n",
    "testY_inverse = scaler.inverse_transform([testY])\n",
    "\n",
    "print('Model 18')\n",
    "\n",
    "trainScore18 = math.sqrt(mse(trainY_inverse[0], trainPredict18[:,0]))\n",
    "print('Train score: %.2f' % (trainScore18))\n",
    "\n",
    "testScore18 = math.sqrt(mse(testY_inverse[0], testPredict18[:,0]))\n",
    "print('Test score: %.2f' % (testScore18))"
   ]
  },
  {
   "cell_type": "code",
   "execution_count": 72,
   "metadata": {},
   "outputs": [
    {
     "name": "stdout",
     "output_type": "stream",
     "text": [
      "MAPE Train:  4.9039664\n",
      "Akurasi Train:  95.09603357315063\n",
      "MAPE Test:  4.9187474\n",
      "Akurasi Test:  95.08125257492065\n"
     ]
    }
   ],
   "source": [
    "mapeTrain18 = mape(trainY_inverse, trainPredict18)\n",
    "print('MAPE Train: ', mapeTrain18.numpy())\n",
    "print('Akurasi Train: ', 100 - (mapeTrain18.numpy()))\n",
    "\n",
    "mape18 = mape(testY_inverse, testPredict18)\n",
    "print('MAPE Test: ', mape18.numpy())\n",
    "print('Akurasi Test: ', 100 - (mape18.numpy()))"
   ]
  },
  {
   "attachments": {},
   "cell_type": "markdown",
   "metadata": {},
   "source": [
    "### Model 13 - Use"
   ]
  },
  {
   "cell_type": "code",
   "execution_count": 22,
   "metadata": {},
   "outputs": [
    {
     "data": {
      "image/png": "[encoded data removed]",
      "text/plain": [
       "<Figure size 640x480 with 1 Axes>"
      ]
     },
     "metadata": {},
     "output_type": "display_data"
    }
   ],
   "source": [
    "trainPredictPlot = np.empty_like(df)\n",
    "trainPredictPlot[:, :] = np.nan\n",
    "trainPredictPlot[seq_size:len(trainPredict13)+seq_size, :] = trainPredict13\n",
    "\n",
    "testPredictPlot = np.empty_like(df)\n",
    "testPredictPlot[:, :] = np.nan\n",
    "testPredictPlot[len(trainPredict13)+(seq_size*2):len(df), :] = testPredict13\n",
    "\n",
    "plt.plot(scaler.inverse_transform(df))\n",
    "plt.plot(trainPredictPlot)\n",
    "plt.plot(testPredictPlot)\n",
    "\n",
    "plt.title('Perbandingan Aktual dan Prediksi Paracetamol')\n",
    "plt.legend(['Data Aktual', 'Data Prediksi Latih', 'Data Prediksi Uji'])\n",
    "plt.show()"
   ]
  },
  {
   "cell_type": "code",
   "execution_count": 23,
   "metadata": {},
   "outputs": [],
   "source": [
    "# Save Model\n",
    "save_model = model13.save('model/model_para.h5',save_format='h5')\n",
    "save_model"
   ]
  }
 ],
 "metadata": {
  "kernelspec": {
   "display_name": "Python 3.10.3 64-bit",
   "language": "python",
   "name": "python3"
  },
  "language_info": {
   "codemirror_mode": {
    "name": "ipython",
    "version": 3
   },
   "file_extension": ".py",
   "mimetype": "text/x-python",
   "name": "python",
   "nbconvert_exporter": "python",
   "pygments_lexer": "ipython3",
   "version": "3.10.3"
  },
  "orig_nbformat": 4,
  "vscode": {
   "interpreter": {
    "hash": "132106510fc0582817a7d9eabf021e71fb20b84eec3c337b95f0dff1e2e21512"
   }
  }
 },
 "nbformat": 4,
 "nbformat_minor": 2
}
